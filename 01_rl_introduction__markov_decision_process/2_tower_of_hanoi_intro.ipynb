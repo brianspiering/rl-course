{
 "cells": [
  {
   "cell_type": "markdown",
   "metadata": {
    "slideshow": {
     "slide_type": "skip"
    },
    "toc": true
   },
   "source": [
    "<h1>Table of Contents<span class=\"tocSkip\"></span></h1>\n",
    "<div class=\"toc\"><ul class=\"toc-item\"><li><span><a href=\"#Tower-of-Hanoi\" data-toc-modified-id=\"Tower-of-Hanoi-1\">Tower of Hanoi</a></span></li><li><span><a href=\"#Learning-Outcomes\" data-toc-modified-id=\"Learning-Outcomes-2\">Learning Outcomes</a></span></li><li><span><a href=\"#Demo:-How-to-Play-Tower-of-Hanoi\" data-toc-modified-id=\"Demo:-How-to-Play-Tower-of-Hanoi-3\">Demo: How to Play Tower of Hanoi</a></span></li><li><span><a href=\"#Definitions\" data-toc-modified-id=\"Definitions-4\">Definitions</a></span></li><li><span><a href=\"#Demo:-How-to-Play-Tower-of-Hanoi\" data-toc-modified-id=\"Demo:-How-to-Play-Tower-of-Hanoi-5\">Demo: How to Play Tower of Hanoi</a></span></li><li><span><a href=\"#Student-Activity\" data-toc-modified-id=\"Student-Activity-6\">Student Activity</a></span></li><li><span><a href=\"#Reflection\" data-toc-modified-id=\"Reflection-7\">Reflection</a></span></li><li><span><a href=\"#Did-any-group-derive-formula-for-minimum-number-of-moves?\" data-toc-modified-id=\"Did-any-group-derive-formula-for-minimum-number-of-moves?-8\">Did any group derive formula for minimum number of moves?</a></span></li><li><span><a href=\"#Questions?\" data-toc-modified-id=\"Questions?-9\">Questions?</a></span></li><li><span><a href=\"#-Tower-of-Hanoi-as-RL-problem\" data-toc-modified-id=\"-Tower-of-Hanoi-as-RL-problem-10\"> Tower of Hanoi as RL problem</a></span></li><li><span><a href=\"#-Tower-of-Hanoi-Solutions\" data-toc-modified-id=\"-Tower-of-Hanoi-Solutions-11\"> Tower of Hanoi Solutions</a></span></li><li><span><a href=\"#Greedy-Tower-of-Hanoi\" data-toc-modified-id=\"Greedy-Tower-of-Hanoi-12\">Greedy Tower of Hanoi</a></span></li><li><span><a href=\"#-Tower-of-Hanoi-Solutions\" data-toc-modified-id=\"-Tower-of-Hanoi-Solutions-13\"> Tower of Hanoi Solutions</a></span></li><li><span><a href=\"#THERE-MUST-BE-A-BETTER-WAY!\" data-toc-modified-id=\"THERE-MUST-BE-A-BETTER-WAY!-14\">THERE MUST BE A BETTER WAY!</a></span></li><li><span><a href=\"#RECURSION\" data-toc-modified-id=\"RECURSION-15\">RECURSION</a></span></li><li><span><a href=\"#2-Requirements-for-Recursion\" data-toc-modified-id=\"2-Requirements-for-Recursion-16\">2 Requirements for Recursion</a></span></li><li><span><a href=\"#Think,-Pair,-&amp;-Share\" data-toc-modified-id=\"Think,-Pair,-&amp;-Share-17\">Think, Pair, &amp; Share</a></span></li><li><span><a href=\"#Recursion-Steps-to-Solve-Tower-of-Hanoi\" data-toc-modified-id=\"Recursion-Steps-to-Solve-Tower-of-Hanoi-18\">Recursion Steps to Solve Tower of Hanoi</a></span></li><li><span><a href=\"#Illustrated-Recursive-Steps-to-Solve-Tower-of-Hanoi\" data-toc-modified-id=\"Illustrated-Recursive-Steps-to-Solve-Tower-of-Hanoi-19\">Illustrated Recursive Steps to Solve Tower of Hanoi</a></span></li><li><span><a href=\"#Check-for-understanding\" data-toc-modified-id=\"Check-for-understanding-20\">Check for understanding</a></span></li><li><span><a href=\"#Check-for-understanding\" data-toc-modified-id=\"Check-for-understanding-21\">Check for understanding</a></span></li><li><span><a href=\"#Check-for-understanding\" data-toc-modified-id=\"Check-for-understanding-22\">Check for understanding</a></span></li><li><span><a href=\"#Takeaways\" data-toc-modified-id=\"Takeaways-23\">Takeaways</a></span></li><li><span><a href=\"#Bonus-Material\" data-toc-modified-id=\"Bonus-Material-24\">Bonus Material</a></span></li><li><span><a href=\"#Dynamic-Programming\" data-toc-modified-id=\"Dynamic-Programming-25\">Dynamic Programming</a></span></li><li><span><a href=\"#What-would-Dynamic-Programming-look-like-for-Tower-of-Hanoi?\" data-toc-modified-id=\"What-would-Dynamic-Programming-look-like-for-Tower-of-Hanoi?-26\">What would Dynamic Programming look like for Tower of Hanoi?</a></span></li><li><span><a href=\"#Tower-of-Hanoi-for-Final-Project\" data-toc-modified-id=\"Tower-of-Hanoi-for-Final-Project-27\">Tower of Hanoi for Final Project</a></span></li><li><span><a href=\"#Further-Study\" data-toc-modified-id=\"Further-Study-28\">Further Study</a></span></li></ul></div>"
   ]
  },
  {
   "cell_type": "markdown",
   "metadata": {
    "slideshow": {
     "slide_type": "slide"
    }
   },
   "source": [
    "<center><h2>Tower of Hanoi</h2></center>\n",
    "\n",
    "<center><img src=\"images/tower_of_hanoi.jpg\" width=\"75%\"/></center>"
   ]
  },
  {
   "cell_type": "markdown",
   "metadata": {
    "slideshow": {
     "slide_type": "slide"
    }
   },
   "source": [
    "<center><h2>Learning Outcomes</h2></center>\n",
    "\n",
    "__By the end of this session, you should be able to__:\n",
    "\n",
    "- Solve Tower of Hanoi by hand.\n",
    "- Explain how to Tower of Hanoi with recursion in your words."
   ]
  },
  {
   "cell_type": "markdown",
   "metadata": {
    "slideshow": {
     "slide_type": "slide"
    }
   },
   "source": [
    "<center><h2>Demo: How to Play Tower of Hanoi</h2></center>\n",
    "\n",
    "<center><img src=\"images/tower_of_hanoi.jpg\" width=\"35%\"/></center>\n",
    "\n",
    "The Goal: Move all disks from start to finish.\n",
    "\n",
    "Rules: \n",
    "\n",
    "1. Only one disk may be moved at a time.\n",
    "2. Each move consists of taking the upper disk from one of the rods and sliding it onto another rod, on top of the other disks that may already be present on that rod.\n",
    "3. No disk may be placed on top of a smaller disk."
   ]
  },
  {
   "cell_type": "markdown",
   "metadata": {
    "slideshow": {
     "slide_type": "skip"
    }
   },
   "source": [
    "__My nephew enjoys the Tower of Hanoi.__\n",
    "\n"
   ]
  },
  {
   "cell_type": "markdown",
   "metadata": {
    "slideshow": {
     "slide_type": "skip"
    }
   },
   "source": [
    "Definitions\n",
    "-----\n",
    "\n",
    "- Rod: The vertical shaft\n",
    "- Disks: The items on the rod"
   ]
  },
  {
   "cell_type": "markdown",
   "metadata": {
    "slideshow": {
     "slide_type": "slide"
    }
   },
   "source": [
    "<center><h2>Demo: How to Play Tower of Hanoi</h2></center>\n",
    "\n",
    "1) Solve with 1 Disc"
   ]
  },
  {
   "cell_type": "markdown",
   "metadata": {
    "slideshow": {
     "slide_type": "fragment"
    }
   },
   "source": [
    "2) Solve with 2 Discs"
   ]
  },
  {
   "cell_type": "markdown",
   "metadata": {
    "slideshow": {
     "slide_type": "slide"
    }
   },
   "source": [
    "<center><img src=\"http://hangaroundtheweb.com/wp-content/uploads/2018/07/write-down-english.jpg\" width=\"20%\"/></center>"
   ]
  },
  {
   "cell_type": "markdown",
   "metadata": {
    "slideshow": {
     "slide_type": "skip"
    }
   },
   "source": [
    "> If you can’t write it down in English, you can’t code it.  \n",
    "> — Peter Halpern"
   ]
  },
  {
   "cell_type": "markdown",
   "metadata": {
    "slideshow": {
     "slide_type": "slide"
    }
   },
   "source": [
    "<center><h2>Student Activity</h2></center>\n",
    "\n",
    "In small groups, solve Tower of Hanoi:  \n",
    "https://www.mathsisfun.com/games/towerofhanoi-flash.html\n",
    "\n",
    "Record the minimal number of steps for each number of discs:\n",
    "\n",
    "1. 3 discs\n",
    "1. 4 discs\n",
    "1. 5 discs\n",
    "1. 6 discs\n",
    "\n",
    "If someone has never solved the puzzle, they should lead. If you have solved it, only give hints when the team is stuck."
   ]
  },
  {
   "cell_type": "markdown",
   "metadata": {
    "slideshow": {
     "slide_type": "slide"
    }
   },
   "source": [
    "<center><h2>Reflection</h2></center>\n",
    "\n",
    "How difficult was each version?     \n",
    "\n",
    "How many more steps were needed for each increase in disk?   \n",
    "Could you write a formula to model the minimum of numbers as number of disks increase?"
   ]
  },
  {
   "cell_type": "code",
   "execution_count": 28,
   "metadata": {
    "slideshow": {
     "slide_type": "skip"
    }
   },
   "outputs": [],
   "source": [
    "reset -fs"
   ]
  },
  {
   "cell_type": "code",
   "execution_count": 1,
   "metadata": {
    "slideshow": {
     "slide_type": "slide"
    }
   },
   "outputs": [
    {
     "data": {
      "image/jpeg": "[encoded data removed]",
      "text/html": [
       "\n",
       "        <iframe\n",
       "            width=\"400\"\n",
       "            height=\"300\"\n",
       "            src=\"https://www.youtube.com/embed/S4HOSbrS4bY\"\n",
       "            frameborder=\"0\"\n",
       "            allowfullscreen\n",
       "        ></iframe>\n",
       "        "
      ],
      "text/plain": [
       "<IPython.lib.display.YouTubeVideo at 0x10822ef98>"
      ]
     },
     "execution_count": 1,
     "metadata": {},
     "output_type": "execute_result"
    }
   ],
   "source": [
    "from IPython.display import YouTubeVideo\n",
    "\n",
    "# 3 rings\n",
    "YouTubeVideo('S4HOSbrS4bY')"
   ]
  },
  {
   "cell_type": "code",
   "execution_count": 2,
   "metadata": {
    "slideshow": {
     "slide_type": "slide"
    }
   },
   "outputs": [
    {
     "data": {
      "image/jpeg": "[encoded data removed]",
      "text/html": [
       "\n",
       "        <iframe\n",
       "            width=\"400\"\n",
       "            height=\"300\"\n",
       "            src=\"https://www.youtube.com/embed/iFV821yY7Ns\"\n",
       "            frameborder=\"0\"\n",
       "            allowfullscreen\n",
       "        ></iframe>\n",
       "        "
      ],
      "text/plain": [
       "<IPython.lib.display.YouTubeVideo at 0x10832ec88>"
      ]
     },
     "execution_count": 2,
     "metadata": {},
     "output_type": "execute_result"
    }
   ],
   "source": [
    "# 6 rings\n",
    "YouTubeVideo('iFV821yY7Ns')"
   ]
  },
  {
   "cell_type": "markdown",
   "metadata": {
    "slideshow": {
     "slide_type": "slide"
    }
   },
   "source": [
    "<center><h2>Did any group derive formula for minimum number of moves?</h2></center>"
   ]
  },
  {
   "cell_type": "code",
   "execution_count": 32,
   "metadata": {
    "slideshow": {
     "slide_type": "slide"
    }
   },
   "outputs": [
    {
     "name": "stdout",
     "output_type": "stream",
     "text": [
      "# disks |    # moves\n",
      "      1          1\n",
      "      2          3\n",
      "      3          7\n",
      "      4         15\n",
      "      5         31\n",
      "      6         63\n",
      "      7        127\n",
      "      8        255\n",
      "      9        511\n",
      "     10      1,023\n",
      "     11      2,047\n",
      "     12      4,095\n",
      "     13      8,191\n",
      "     14     16,383\n",
      "     15     32,767\n",
      "     16     65,535\n",
      "     17    131,071\n",
      "     18    262,143\n",
      "     19    524,287\n",
      "     20  1,048,575\n"
     ]
    }
   ],
   "source": [
    "# Calculate the optimal number of moves\n",
    "\n",
    "print(f\"{'# disks':>7} | {'# moves':>10}\")\n",
    "      \n",
    "for n_disks in range(1, 21): \n",
    "    n_moves = (2 ** n_disks)-1\n",
    "    print(f\"{n_disks:>7} {n_moves:>10,}\")"
   ]
  },
  {
   "cell_type": "markdown",
   "metadata": {
    "slideshow": {
     "slide_type": "slide"
    }
   },
   "source": [
    "<center><h2>Questions?</h2></center>"
   ]
  },
  {
   "cell_type": "markdown",
   "metadata": {
    "slideshow": {
     "slide_type": "slide"
    }
   },
   "source": [
    "<center><h2> Tower of Hanoi as RL problem</h2></center>\n",
    "\n",
    "Elements of Reinforcement Learning Problem:\n",
    "\n",
    "1. Is it sequential?\n",
    "1. What is the environment? What are the parameters?\n",
    "1. Who is the agent?\n",
    "1. What are the states?\n",
    "1. What are the rewards?"
   ]
  },
  {
   "cell_type": "markdown",
   "metadata": {
    "slideshow": {
     "slide_type": "slide"
    }
   },
   "source": [
    "1. Sequential - Yes! By definition moves are one-at-a-time\n",
    "1. Environment - The number of rods and disks.\n",
    "1. Agent - The mover of disks. You right now. The function you are about to write.\n",
    "1. State - Location of disks on rods at a given step\n",
    "1. Rewards:\n",
    "    1. End - All disks on last rod\n",
    "    1. Intermediate - Disks closer to solution state"
   ]
  },
  {
   "cell_type": "markdown",
   "metadata": {
    "slideshow": {
     "slide_type": "slide"
    }
   },
   "source": [
    "<center><h2> Tower of Hanoi Solutions</h2></center>\n",
    "\n",
    "What would a greedy approach look like?\n",
    "\n",
    "Would it solve the problem?"
   ]
  },
  {
   "cell_type": "markdown",
   "metadata": {
    "slideshow": {
     "slide_type": "skip"
    }
   },
   "source": [
    "By greedy, I mean an agent can only move directly towards the goal (of course must follow the rules of the game)"
   ]
  },
  {
   "cell_type": "markdown",
   "metadata": {
    "slideshow": {
     "slide_type": "fragment"
    }
   },
   "source": [
    "<center><h2>Greedy Tower of Hanoi</h2></center>\n",
    "\n",
    "1. Move the smallest disk to the end.\n",
    "2. Move the next disk to the middle.\n",
    "3. Then get stuck!"
   ]
  },
  {
   "cell_type": "markdown",
   "metadata": {
    "slideshow": {
     "slide_type": "slide"
    }
   },
   "source": [
    "<center><h2> Tower of Hanoi Solutions</h2></center>\n",
    "\n",
    "What would a random approach look like?\n",
    "\n",
    "Would it solve the problem?"
   ]
  },
  {
   "cell_type": "markdown",
   "metadata": {
    "slideshow": {
     "slide_type": "fragment"
    }
   },
   "source": [
    "Find all valid moves, select one.\n",
    "\n",
    "Yes, it would solve. It would take a looooong time."
   ]
  },
  {
   "cell_type": "markdown",
   "metadata": {
    "slideshow": {
     "slide_type": "slide"
    }
   },
   "source": [
    "<center><h2>THERE MUST BE A BETTER WAY!</h2></center>"
   ]
  },
  {
   "cell_type": "markdown",
   "metadata": {
    "slideshow": {
     "slide_type": "fragment"
    }
   },
   "source": [
    "<center><h2>RECURSION</h2></center>"
   ]
  },
  {
   "cell_type": "markdown",
   "metadata": {
    "slideshow": {
     "slide_type": "slide"
    }
   },
   "source": [
    "<center><h2>2 Requirements for Recursion</h2></center>\n",
    "\n",
    "1. Must have a base case\n",
    "1. Move towards the base case by calling the function itself"
   ]
  },
  {
   "cell_type": "markdown",
   "metadata": {
    "slideshow": {
     "slide_type": "slide"
    }
   },
   "source": [
    "<center><h2>Think, Pair, & Share</h2></center>\n",
    "\n",
    "How does the 2 requirements of recursion apply to Tower of Hanoi?\n",
    "\n",
    "What is the base case?\n",
    "\n",
    "How can we move towards base case?\n",
    "\n",
    "How can we generalize to any number of discs?"
   ]
  },
  {
   "cell_type": "markdown",
   "metadata": {
    "slideshow": {
     "slide_type": "slide"
    }
   },
   "source": [
    "<center><h2>Recursion Steps to Solve Tower of Hanoi</h2></center>\n",
    "\n",
    "1. Base case: Move the largest disk to rightmost tower. \n",
    "2. Move towards the base case by defining:\n",
    "    - `from_rod`\n",
    "    - `to_rod`\n",
    "    - `aux_rod`\n",
    "3. Call the function: Solving the same problem with one less disk."
   ]
  },
  {
   "cell_type": "markdown",
   "metadata": {},
   "source": [
    "<center><h2>Illustrated Recursive Steps to Solve Tower of Hanoi</h2></center>\n",
    "\n",
    "<center><img src=\"https://upload.wikimedia.org/wikipedia/commons/thumb/2/20/Tower_of_Hanoi_recursion_SMIL.svg/512px-Tower_of_Hanoi_recursion_SMIL.svg.png\" width=\"75%\"/></center>"
   ]
  },
  {
   "cell_type": "markdown",
   "metadata": {
    "slideshow": {
     "slide_type": "slide"
    }
   },
   "source": [
    "<center><h2>Check for understanding</h2></center>\n",
    "\n",
    "Is the recursion solution deterministic or schocastic?"
   ]
  },
  {
   "cell_type": "markdown",
   "metadata": {
    "slideshow": {
     "slide_type": "fragment"
    }
   },
   "source": [
    "Deterministic - Every time its plays, it will always play the same"
   ]
  },
  {
   "cell_type": "markdown",
   "metadata": {
    "slideshow": {
     "slide_type": "slide"
    }
   },
   "source": [
    "<center><h2>Check for understanding</h2></center>\n",
    "\n",
    "Does recursion solution learn? Will it get better the more it plays?"
   ]
  },
  {
   "cell_type": "markdown",
   "metadata": {
    "slideshow": {
     "slide_type": "fragment"
    }
   },
   "source": [
    "No - It does not learn."
   ]
  },
  {
   "cell_type": "markdown",
   "metadata": {
    "slideshow": {
     "slide_type": "slide"
    }
   },
   "source": [
    "<center><h2>Check for understanding</h2></center>\n",
    "\n",
    "Is the recursive solution optimal?"
   ]
  },
  {
   "cell_type": "markdown",
   "metadata": {
    "slideshow": {
     "slide_type": "fragment"
    }
   },
   "source": [
    "Yes - It will always play the minum number of moves."
   ]
  },
  {
   "cell_type": "markdown",
   "metadata": {
    "slideshow": {
     "slide_type": "slide"
    }
   },
   "source": [
    "<center><h2>Takeaways</h2></center>\n",
    "\n",
    "- Tower of Hanoi is a game to test the cognitive abilities, most often of small children.\n",
    "- Tower of Hanoi has the elements of Reinforcement Learning:\n",
    "    1. Sequential \n",
    "    1. Environment\n",
    "    1. Agent\n",
    "    1. State\n",
    "    1. Rewards\n",
    "- Recursion is a deterministic, non-learning, and optimal solution for Tower of Hanoi."
   ]
  },
  {
   "cell_type": "markdown",
   "metadata": {
    "slideshow": {
     "slide_type": "slide"
    }
   },
   "source": [
    " "
   ]
  },
  {
   "cell_type": "markdown",
   "metadata": {
    "slideshow": {
     "slide_type": "slide"
    }
   },
   "source": [
    "-----\n",
    "Bonus Material\n",
    "-----"
   ]
  },
  {
   "cell_type": "markdown",
   "metadata": {
    "slideshow": {
     "slide_type": "slide"
    }
   },
   "source": [
    "<center><h2>Dynamic Programming</h2></center>\n",
    "\n",
    "What is it?"
   ]
  },
  {
   "cell_type": "markdown",
   "metadata": {
    "slideshow": {
     "slide_type": "fragment"
    }
   },
   "source": [
    "Look up previous solutions (rather than re-compute them) to overlapping subproblems.\n",
    "\n",
    "Requires a cache to store solutions."
   ]
  },
  {
   "cell_type": "markdown",
   "metadata": {
    "slideshow": {
     "slide_type": "slide"
    }
   },
   "source": [
    "<center><h2>What would Dynamic Programming look like for Tower of Hanoi?</h2></center>"
   ]
  },
  {
   "cell_type": "markdown",
   "metadata": {
    "slideshow": {
     "slide_type": "fragment"
    }
   },
   "source": [
    "Track optimal solutions to subproblems. \n",
    "\n",
    "Use those solutions instead of recomputing them."
   ]
  },
  {
   "cell_type": "markdown",
   "metadata": {
    "slideshow": {
     "slide_type": "fragment"
    }
   },
   "source": [
    "However, the recursive solution is optimal for Tower of Hanoi so there is no reason to add dynamic programming."
   ]
  },
  {
   "cell_type": "markdown",
   "metadata": {
    "slideshow": {
     "slide_type": "slide"
    }
   },
   "source": [
    "Tower of Hanoi for Final Project\n",
    "------\n",
    "\n",
    "If you are interesting in extending Tower of Hanoi as your Final Projects, here ideas to consider:\n",
    "\n",
    "- Frame it as Markov decision process (MDP)\n",
    "- Can you make it stochastic?\n",
    "- How can you reformulate the problem that a learned solution would perform better than a deterministic solution?"
   ]
  },
  {
   "cell_type": "markdown",
   "metadata": {
    "slideshow": {
     "slide_type": "slide"
    }
   },
   "source": [
    "Further Study\n",
    "------\n",
    "\n",
    "- [Q-learning for Tower of Hanoi](https://github.com/khpeek/Q-learning-Hanoi)\n",
    "- [RL take for Tower of Hanoi](https://kenandeen.wordpress.com/2015/08/22/tower-of-hanoi-reinforcement-learning/)"
   ]
  },
  {
   "cell_type": "markdown",
   "metadata": {
    "slideshow": {
     "slide_type": "slide"
    }
   },
   "source": [
    " "
   ]
  }
 ],
 "metadata": {
  "celltoolbar": "Raw Cell Format",
  "kernelspec": {
   "display_name": "Python 3",
   "language": "python",
   "name": "python3"
  },
  "language_info": {
   "codemirror_mode": {
    "name": "ipython",
    "version": 3
   },
   "file_extension": ".py",
   "mimetype": "text/x-python",
   "name": "python",
   "nbconvert_exporter": "python",
   "pygments_lexer": "ipython3",
   "version": "3.7.7"
  },
  "toc": {
   "base_numbering": 1,
   "nav_menu": {},
   "number_sections": false,
   "sideBar": true,
   "skip_h1_title": false,
   "title_cell": "Table of Contents",
   "title_sidebar": "Contents",
   "toc_cell": true,
   "toc_position": {},
   "toc_section_display": true,
   "toc_window_display": false
  }
 },
 "nbformat": 4,
 "nbformat_minor": 2
}
