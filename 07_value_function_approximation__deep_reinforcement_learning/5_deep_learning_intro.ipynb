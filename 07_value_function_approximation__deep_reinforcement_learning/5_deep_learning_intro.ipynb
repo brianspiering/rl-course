{
 "cells": [
  {
   "cell_type": "markdown",
   "metadata": {
    "slideshow": {
     "slide_type": "skip"
    },
    "toc": true
   },
   "source": [
    "<h1>Table of Contents<span class=\"tocSkip\"></span></h1>\n",
    "<div class=\"toc\"><ul class=\"toc-item\"><li><span><a href=\"#Orientation-to-Deep-Learning\" data-toc-modified-id=\"Orientation-to-Deep-Learning-1\">Orientation to Deep Learning</a></span></li><li><span><a href=\"#Learning-Outcomes\" data-toc-modified-id=\"Learning-Outcomes-2\">Learning Outcomes</a></span></li><li><span><a href=\"#Survey-students\" data-toc-modified-id=\"Survey-students-3\">Survey students</a></span></li><li><span><a href=\"#What-is-Deep-Learning?\" data-toc-modified-id=\"What-is-Deep-Learning?-4\">What is Deep Learning?</a></span></li><li><span><a href=\"#Deep-Learning-(DL):-Neural-networks-(NN)-with->1-hidden-layer\" data-toc-modified-id=\"Deep-Learning-(DL):-Neural-networks-(NN)-with->1-hidden-layer-5\">Deep Learning (DL): Neural networks (NN) with &gt;1 hidden layer</a></span></li><li><span><a href=\"#What-is-&quot;Shallow&quot;-Learning?\" data-toc-modified-id=\"What-is-&quot;Shallow&quot;-Learning?-6\">What is \"Shallow\" Learning?</a></span></li><li><span><a href=\"#Why-is-DL-a-powerful-Machine-Learning-technique?\" data-toc-modified-id=\"Why-is-DL-a-powerful-Machine-Learning-technique?-7\">Why is DL a powerful Machine Learning technique?</a></span></li><li><span><a href=\"#Deep-Learning-isn't-magic,-it-is-just-good-at-finding-patterns.\" data-toc-modified-id=\"Deep-Learning-isn't-magic,-it-is-just-good-at-finding-patterns.-8\">Deep Learning isn't magic, it is just good at finding patterns.</a></span></li><li><span><a href=\"#Each-additional-layer-learns-a-combination-of-previous-layers\" data-toc-modified-id=\"Each-additional-layer-learns-a-combination-of-previous-layers-9\">Each additional layer learns a combination of previous layers</a></span></li><li><span><a href=\"#Deep-Learning-is-VERY-GOOD-at-finding-patterns\" data-toc-modified-id=\"Deep-Learning-is-VERY-GOOD-at-finding-patterns-10\">Deep Learning is VERY GOOD at finding patterns</a></span></li><li><span><a href=\"#What-is-the-impact-of-deep-learning?\" data-toc-modified-id=\"What-is-the-impact-of-deep-learning?-11\">What is the impact of deep learning?</a></span></li><li><span><a href=\"#DL's-killer-app:-Teach-computers-to-perceive-the-world\" data-toc-modified-id=\"DL's-killer-app:-Teach-computers-to-perceive-the-world-12\">DL's killer app: Teach computers to perceive the world</a></span></li><li><span><a href=\"#What-Deep-Learning-applications-are-you-most-excited-about?\" data-toc-modified-id=\"What-Deep-Learning-applications-are-you-most-excited-about?-13\">What Deep Learning applications are you most excited about?</a></span></li><li><span><a href=\"#Deep-Learning-Improves-the-Hearing-Aid\" data-toc-modified-id=\"Deep-Learning-Improves-the-Hearing-Aid-14\">Deep Learning Improves the Hearing Aid</a></span></li><li><span><a href=\"#Everything-gets-better-(smarter)-the-more-you-use-it\" data-toc-modified-id=\"Everything-gets-better-(smarter)-the-more-you-use-it-15\">Everything gets better (smarter) the more you use it</a></span></li><li><span><a href=\"#What-is-the-relationship-between-Artificial-Intelligence,-Machine-Learning,-and-Deep-Learning?\" data-toc-modified-id=\"What-is-the-relationship-between-Artificial-Intelligence,-Machine-Learning,-and-Deep-Learning?-16\">What is the relationship between Artificial Intelligence, Machine Learning, and Deep Learning?</a></span></li><li><span><a href=\"#Why-Deep-Learning-now?\" data-toc-modified-id=\"Why-Deep-Learning-now?-17\">Why Deep Learning now?</a></span></li><li><span><a href=\"#Instruction-based-model-of-programming\" data-toc-modified-id=\"Instruction-based-model-of-programming-18\">Instruction-based model of programming</a></span></li><li><span><a href=\"#Training-based-model-of-programming\" data-toc-modified-id=\"Training-based-model-of-programming-19\">Training-based model of programming</a></span></li><li><span><a href=\"#Takeaways\" data-toc-modified-id=\"Takeaways-20\">Takeaways</a></span></li></ul></div>"
   ]
  },
  {
   "cell_type": "markdown",
   "metadata": {
    "slideshow": {
     "slide_type": "slide"
    }
   },
   "source": [
    "<center><h2>Orientation to Deep Learning</h2></center>\n",
    "\n",
    "<center><img src=\"images/neural_nets.jpg\" width=\"75%\"/></center>"
   ]
  },
  {
   "cell_type": "markdown",
   "metadata": {
    "slideshow": {
     "slide_type": "slide"
    }
   },
   "source": [
    "<center><h2>Learning Outcomes</h2></center>\n",
    "\n",
    "__By the end of this session, you should be able to__:\n",
    "\n",
    "- Define Deep Learning in your own words.\n",
    "- Explain why Deep Learning is useful. \n",
    "- List the reasons why Deep Learning is popular right now."
   ]
  },
  {
   "cell_type": "markdown",
   "metadata": {},
   "source": [
    "<center><h2>Survey students</h2></center>\n",
    "\n",
    "- Who has a little experience with Deep Learning?\n",
    "- Who has a lot of experience with Deep Learning?\n",
    "- Who has no experience with Deep Learning?\n",
    "- PyTorch vs TensorFlow?"
   ]
  },
  {
   "cell_type": "markdown",
   "metadata": {
    "slideshow": {
     "slide_type": "slide"
    }
   },
   "source": [
    "<center><h2>What is Deep Learning?</h2></center>"
   ]
  },
  {
   "cell_type": "markdown",
   "metadata": {
    "slideshow": {
     "slide_type": "fragment"
    }
   },
   "source": [
    "<center><img src=\"images/deep_learning.png\" width=\"70%\"/></center>"
   ]
  },
  {
   "cell_type": "code",
   "execution_count": 1,
   "metadata": {
    "slideshow": {
     "slide_type": "slide"
    }
   },
   "outputs": [],
   "source": [
    "import torch\n",
    "import tensorflow"
   ]
  },
  {
   "cell_type": "markdown",
   "metadata": {
    "slideshow": {
     "slide_type": "slide"
    }
   },
   "source": [
    "<center><h2>Deep Learning (DL): Neural networks (NN) with >1 hidden layer</h2></center>\n",
    "\n",
    "<center><img src=\"http://www.kdnuggets.com/wp-content/uploads/neural-networks-layers.jpg\" width=\"75%\"/></center>"
   ]
  },
  {
   "cell_type": "markdown",
   "metadata": {
    "slideshow": {
     "slide_type": "slide"
    }
   },
   "source": [
    "<center><h2>What is \"Shallow\" Learning?</h2></center>\n",
    "\n",
    "<center><img src=\"https://upload.wikimedia.org/wikipedia/commons/thumb/e/e4/Artificial_neural_network.svg/400px-Artificial_neural_network.svg.png\" width=\"50%\"/></center>\n",
    "\n",
    "\"Shallow\" Learning has just a single hidden layer.  "
   ]
  },
  {
   "cell_type": "markdown",
   "metadata": {
    "slideshow": {
     "slide_type": "slide"
    }
   },
   "source": [
    "<center><img src=\"images/deep_learning_2.png\" width=\"75%\"/></center>\n",
    "\n",
    "Deep Learning are just very wide, very deep neural networks.\n",
    "\n",
    "Deep Learning should be called Big Learning."
   ]
  },
  {
   "cell_type": "markdown",
   "metadata": {
    "slideshow": {
     "slide_type": "slide"
    }
   },
   "source": [
    "<center><img src=\"images/hidden_layer.png\" width=\"90%\"/></center>"
   ]
  },
  {
   "cell_type": "markdown",
   "metadata": {
    "slideshow": {
     "slide_type": "slide"
    }
   },
   "source": [
    "<center><h2>Why is DL a powerful Machine Learning technique?</h2></center>"
   ]
  },
  {
   "cell_type": "markdown",
   "metadata": {
    "slideshow": {
     "slide_type": "fragment"
    }
   },
   "source": [
    "<center><img src=\"http://cs231n.github.io/assets/nn1/layer_sizes.jpeg\" width=\"75%\"/></center>\n",
    "\n",
    "__Using hidden layers, Neural networks (NN) can learn nonlinear relationships__"
   ]
  },
  {
   "cell_type": "markdown",
   "metadata": {
    "slideshow": {
     "slide_type": "slide"
    }
   },
   "source": [
    "<center><h2>Deep Learning isn't magic, it is just good at finding patterns.</h2></center>\n",
    "\n",
    "<center><img src=\"https://www.bing.com/th?id=OIP.oSD7Ut4RIYOuxuJAO0oReAHaI1&pid=Api\" width=\"45%\"/></center>"
   ]
  },
  {
   "cell_type": "markdown",
   "metadata": {
    "slideshow": {
     "slide_type": "slide"
    }
   },
   "source": [
    "<center><h2>Each additional layer learns a combination of previous layers</h2></center>\n",
    "\n",
    "<center><img src=\"images/features.png\" width=\"75%\"/></center>"
   ]
  },
  {
   "cell_type": "markdown",
   "metadata": {
    "slideshow": {
     "slide_type": "slide"
    }
   },
   "source": [
    "<center><h2>Deep Learning is VERY GOOD at finding patterns</h2></center>\n",
    "\n",
    "<center><img src=\"https://qph.fs.quoracdn.net/main-qimg-d215c601efacf44db71b968d33da79ab.webp\" width=\"70%\"/></center>"
   ]
  },
  {
   "cell_type": "markdown",
   "metadata": {
    "slideshow": {
     "slide_type": "slide"
    }
   },
   "source": [
    "<center><img src=\"https://cdn-images-1.medium.com/max/1200/1*H6w9DUlhLSoA6-CSwLpO5Q.png\" width=\"70%\"/></center>"
   ]
  },
  {
   "cell_type": "markdown",
   "metadata": {
    "slideshow": {
     "slide_type": "skip"
    }
   },
   "source": [
    "https://arxiv.org/pdf/1602.04938.pdf\n",
    "\n",
    "https://hackernoon.com/dogs-wolves-data-science-and-why-machines-must-learn-like-humans-do-41c43bc7f982\n",
    "\n"
   ]
  },
  {
   "cell_type": "markdown",
   "metadata": {
    "slideshow": {
     "slide_type": "slide"
    }
   },
   "source": [
    "What is the impact of deep learning?\n",
    "-----\n",
    "    "
   ]
  },
  {
   "cell_type": "markdown",
   "metadata": {
    "slideshow": {
     "slide_type": "slide"
    }
   },
   "source": [
    "<center><h2>DL's killer app: Teach computers to perceive the world</h2></center>\n",
    "\n",
    "<center><img src=\"images/cat_numbers.png\" width=\"70%\"/></center>"
   ]
  },
  {
   "cell_type": "markdown",
   "metadata": {
    "slideshow": {
     "slide_type": "skip"
    }
   },
   "source": [
    "Source: http://cs231n.github.io/classification/"
   ]
  },
  {
   "cell_type": "markdown",
   "metadata": {
    "slideshow": {
     "slide_type": "slide"
    }
   },
   "source": [
    "\n",
    "What Deep Learning applications are you most excited about?\n",
    "-------"
   ]
  },
  {
   "cell_type": "markdown",
   "metadata": {
    "slideshow": {
     "slide_type": "slide"
    }
   },
   "source": [
    "<center><h2>Deep Learning Improves the Hearing Aid</h2></center>\n",
    "\n",
    "<center><img src=\"https://spectrum.ieee.org/image/MjgzODI0Mg.jpeg\" width=\"35%\"/></center>"
   ]
  },
  {
   "cell_type": "markdown",
   "metadata": {
    "slideshow": {
     "slide_type": "skip"
    }
   },
   "source": [
    "Source: http://spectrum.ieee.org/consumer-electronics/audiovideo/deep-learning-reinvents-the-hearing-aid)"
   ]
  },
  {
   "cell_type": "markdown",
   "metadata": {
    "slideshow": {
     "slide_type": "slide"
    }
   },
   "source": [
    "Everything gets better (smarter) the more you use it\n",
    "-----\n",
    "\n",
    "- \"Smart reply\" everywhere.\n",
    "- Self-driving cars.\n",
    "- Interpreter & compiler that get better the more you use them.\n",
    "- OS (operating systems) that get better the more you use them."
   ]
  },
  {
   "cell_type": "markdown",
   "metadata": {
    "slideshow": {
     "slide_type": "skip"
    }
   },
   "source": [
    "[Next wave deep learning applications](https://www.nextplatform.com/2016/09/14/next-wave-deep-learning-applications/)"
   ]
  },
  {
   "cell_type": "markdown",
   "metadata": {
    "slideshow": {
     "slide_type": "slide"
    }
   },
   "source": [
    "What is the relationship between Artificial Intelligence, Machine Learning, and Deep Learning?\n",
    "-------"
   ]
  },
  {
   "cell_type": "markdown",
   "metadata": {
    "slideshow": {
     "slide_type": "slide"
    }
   },
   "source": [
    "<center><img src=\"https://www.bing.com/th?id=OIP.GDp24Tu2sZu1khv0YXTligHaHX&pid=Api\" width=\"50%\"/></center>\n",
    "\n",
    "Deep Learning is __not__ the only Artificial Intelligence algorithm, but is currently the most useful."
   ]
  },
  {
   "cell_type": "markdown",
   "metadata": {
    "slideshow": {
     "slide_type": "slide"
    }
   },
   "source": [
    "Why Deep Learning now?\n",
    "------"
   ]
  },
  {
   "cell_type": "markdown",
   "metadata": {
    "slideshow": {
     "slide_type": "fragment"
    }
   },
   "source": [
    "1. Big compute\n",
    "1. Big data\n",
    "1. Big model\n",
    "1. Big ideas in algorithms"
   ]
  },
  {
   "cell_type": "markdown",
   "metadata": {
    "slideshow": {
     "slide_type": "skip"
    }
   },
   "source": [
    "[Source](https://www.slideshare.net/AIFrontiers/jeff-dean-trends-and-developments-in-deep-learning-research)"
   ]
  },
  {
   "cell_type": "markdown",
   "metadata": {
    "slideshow": {
     "slide_type": "slide"
    }
   },
   "source": [
    "<center><img src=\"images/1.png\" width=\"85%\"/></center>"
   ]
  },
  {
   "cell_type": "markdown",
   "metadata": {
    "slideshow": {
     "slide_type": "slide"
    }
   },
   "source": [
    "<center><img src=\"images/2.png\" width=\"900\"/></center>"
   ]
  },
  {
   "cell_type": "markdown",
   "metadata": {
    "slideshow": {
     "slide_type": "slide"
    }
   },
   "source": [
    "<center><img src=\"images/3.png\" width=\"85%\"/></center>"
   ]
  },
  {
   "cell_type": "markdown",
   "metadata": {
    "slideshow": {
     "slide_type": "slide"
    }
   },
   "source": [
    "Instruction-based model of programming\n",
    "------\n",
    "\n",
    "1. Gather ideas or requirements\n",
    "1. Write program\n",
    "1. Make sure it meets specification"
   ]
  },
  {
   "cell_type": "markdown",
   "metadata": {
    "slideshow": {
     "slide_type": "slide"
    }
   },
   "source": [
    "Training-based model of programming\n",
    "-----\n",
    "\n",
    "1. Gather data\n",
    "1. Train a model on that data\n",
    "1. Use the trained model to make predictions on new data."
   ]
  },
  {
   "cell_type": "markdown",
   "metadata": {
    "slideshow": {
     "slide_type": "fragment"
    }
   },
   "source": [
    "[Soon We Won’t Program Computers. We’ll Train Them Like Dogs](https://www.wired.com/2016/05/the-end-of-code/)\n"
   ]
  },
  {
   "cell_type": "markdown",
   "metadata": {
    "slideshow": {
     "slide_type": "slide"
    }
   },
   "source": [
    "<center><h2>Takeaways</h2></center>\n",
    "\n",
    "- Deep Learning (DL) is eating machine learning and software engineering.\n",
    "- DL is currently the only practical and scalable artificial intelligence algorithm.\n",
    "- DL is a neural network with > 1 hidden layer.\n",
    "- DL learns different representations through the many layers.\n",
    "- Applied DL is popular now because of __big__ models, data, compute, and ideas for algorithms."
   ]
  },
  {
   "cell_type": "markdown",
   "metadata": {
    "slideshow": {
     "slide_type": "slide"
    }
   },
   "source": [
    " "
   ]
  }
 ],
 "metadata": {
  "anaconda-cloud": {},
  "celltoolbar": "Raw Cell Format",
  "kernelspec": {
   "display_name": "Python 3",
   "language": "python",
   "name": "python3"
  },
  "language_info": {
   "codemirror_mode": {
    "name": "ipython",
    "version": 3
   },
   "file_extension": ".py",
   "mimetype": "text/x-python",
   "name": "python",
   "nbconvert_exporter": "python",
   "pygments_lexer": "ipython3",
   "version": "3.7.7"
  },
  "toc": {
   "base_numbering": 1,
   "nav_menu": {},
   "number_sections": false,
   "sideBar": false,
   "skip_h1_title": false,
   "title_cell": "Table of Contents",
   "title_sidebar": "Contents",
   "toc_cell": true,
   "toc_position": {},
   "toc_section_display": true,
   "toc_window_display": false
  }
 },
 "nbformat": 4,
 "nbformat_minor": 1
}
