{
 "cells": [
  {
   "cell_type": "markdown",
   "metadata": {
    "slideshow": {
     "slide_type": "skip"
    },
    "toc": true
   },
   "source": [
    "<h1>Table of Contents<span class=\"tocSkip\"></span></h1>\n",
    "<div class=\"toc\"><ul class=\"toc-item\"><li><span><a href=\"#Reinforcement-Learning-Overview\" data-toc-modified-id=\"Reinforcement-Learning-Overview-1\">Reinforcement Learning Overview</a></span></li><li><span><a href=\"#Q-learning-Review\" data-toc-modified-id=\"Q-learning-Review-2\">Q-learning Review</a></span></li><li><span><a href=\"#Q-learning-Review\" data-toc-modified-id=\"Q-learning-Review-3\">Q-learning Review</a></span></li><li><span><a href=\"#Value-Function-Approximation-(VFA)-review\" data-toc-modified-id=\"Value-Function-Approximation-(VFA)-review-4\">Value Function Approximation (VFA) review</a></span></li></ul></div>"
   ]
  },
  {
   "cell_type": "markdown",
   "metadata": {
    "slideshow": {
     "slide_type": "slide"
    }
   },
   "source": [
    "<center><h2>Reinforcement Learning Overview</h2></center>\n",
    "\n",
    "<center><img src=\"images/rl_overview.png\" width=\"75%\"/></center>"
   ]
  },
  {
   "cell_type": "markdown",
   "metadata": {
    "slideshow": {
     "slide_type": "slide"
    }
   },
   "source": [
    "<center><h2>Q-learning Review</h2></center>\n",
    "<br>\n",
    "<center><img src=\"images/fill_in_blank.png\" width=\"100%\"/></center>"
   ]
  },
  {
   "cell_type": "markdown",
   "metadata": {
    "slideshow": {
     "slide_type": "slide"
    }
   },
   "source": [
    "<center><h2>Q-learning Review</h2></center>\n",
    "<br>\n",
    "<center><img src=\"images/q_learning.png\" width=\"100%\"/></center>"
   ]
  },
  {
   "cell_type": "markdown",
   "metadata": {
    "slideshow": {
     "slide_type": "slide"
    }
   },
   "source": [
    "<center><h2>Value Function Approximation (VFA) review</h2></center>\n",
    "\n",
    "Tabular Q-learning algorithms has limitations due to its assumption of a \\_\\_\\_\\_\\_\\_\\_\\_\\_\\_\\_\\_\\_ model of the state-space.\n",
    "<br>\n",
    "<details><summary>\n",
    "Click here for a solution …\n",
    "</summary>\n",
    "a very precise, fixed, discrete\n",
    "</details>\n",
    "\n",
    "Value Function approximation techniques are a type of Supervised Machine Learning, specifically a \\_\\_\\_\\_\\_\\_\\_\\_\\_\\_\\_\\_ {classification, regression, clustering} algorithm.\n",
    "\n",
    "<br>\n",
    "<details><summary>\n",
    "Click here for a solution …\n",
    "</summary>\n",
    "regression - given state feature vector, return predict q-value\n",
    "</details>\n"
   ]
  },
  {
   "cell_type": "markdown",
   "metadata": {
    "slideshow": {
     "slide_type": "slide"
    }
   },
   "source": [
    " <br>\n",
    "<br> \n",
    "<br>\n",
    "\n",
    "----"
   ]
  },
  {
   "cell_type": "markdown",
   "metadata": {
    "slideshow": {
     "slide_type": "slide"
    }
   },
   "source": [
    " "
   ]
  },
  {
   "cell_type": "markdown",
   "metadata": {
    "slideshow": {
     "slide_type": "slide"
    }
   },
   "source": [
    " "
   ]
  }
 ],
 "metadata": {
  "anaconda-cloud": {},
  "celltoolbar": "Raw Cell Format",
  "kernelspec": {
   "display_name": "Python 3",
   "language": "python",
   "name": "python3"
  },
  "language_info": {
   "codemirror_mode": {
    "name": "ipython",
    "version": 3
   },
   "file_extension": ".py",
   "mimetype": "text/x-python",
   "name": "python",
   "nbconvert_exporter": "python",
   "pygments_lexer": "ipython3",
   "version": "3.7.7"
  },
  "toc": {
   "base_numbering": 1,
   "nav_menu": {},
   "number_sections": false,
   "sideBar": false,
   "skip_h1_title": false,
   "title_cell": "Table of Contents",
   "title_sidebar": "Contents",
   "toc_cell": true,
   "toc_position": {},
   "toc_section_display": true,
   "toc_window_display": false
  }
 },
 "nbformat": 4,
 "nbformat_minor": 1
}
