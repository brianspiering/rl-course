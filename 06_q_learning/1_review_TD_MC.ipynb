{
 "cells": [
  {
   "cell_type": "markdown",
   "metadata": {
    "slideshow": {
     "slide_type": "skip"
    },
    "toc": true
   },
   "source": [
    "<h1>Table of Contents<span class=\"tocSkip\"></span></h1>\n",
    "<div class=\"toc\"><ul class=\"toc-item\"><li><span><a href=\"#Student-Activity:-Review\" data-toc-modified-id=\"Student-Activity:-Review-1\">Student Activity: Review</a></span></li><li><span><a href=\"#What-is-&quot;Dots-and-Boxes&quot;?\" data-toc-modified-id=\"What-is-&quot;Dots-and-Boxes&quot;?-2\">What is \"Dots and Boxes\"?</a></span></li><li><span><a href=\"#Review\" data-toc-modified-id=\"Review-3\">Review</a></span></li><li><span><a href=\"#Monte-Carlo-(MC)-vs-TD(0)-Algorithm\" data-toc-modified-id=\"Monte-Carlo-(MC)-vs-TD(0)-Algorithm-4\">Monte Carlo (MC) vs TD(0) Algorithm</a></span></li></ul></div>"
   ]
  },
  {
   "cell_type": "markdown",
   "metadata": {
    "slideshow": {
     "slide_type": "slide"
    }
   },
   "source": [
    "<center><h2>Student Activity: Review</h2></center>\n",
    "\n",
    "Define each of these concepts in your own words: \n",
    "\n",
    "- Policy \n",
    "- Value \n",
    "- Monte Carlo (MC) Algorithms\n",
    "- Temporal difference (TD) Algorithms, specifically TD(0)\n",
    "\n",
    "Then apply those concepts to the Dots and Boxes game:\n",
    "\n",
    "- What is a bad policy? A good policy?\n",
    "- What is a high Value state, aka what is a good board to get rewards?\n",
    "- How would a Monte Carlo Algorithm learn? How would a TD(0) Algorithm learn?"
   ]
  },
  {
   "cell_type": "markdown",
   "metadata": {
    "slideshow": {
     "slide_type": "slide"
    }
   },
   "source": [
    "<center><h2>What is \"Dots and Boxes\"?</h2></center> \n",
    "\n",
    "<center><img src=\"https://upload.wikimedia.org/wikipedia/commons/thumb/f/fa/Dots-and-boxes.svg/300px-Dots-and-boxes.svg.png\" width=\"45%\"/></center>\n",
    "\n",
    "<center><a href=\"https://www.coolmathgames.com/0-dots-and-boxes\">Demo!</a></center>"
   ]
  },
  {
   "cell_type": "markdown",
   "metadata": {
    "slideshow": {
     "slide_type": "slide"
    }
   },
   "source": [
    "<center><h2>Review</h2></center>\n",
    "\n",
    "Policy (π): \n",
    "\n",
    "- Maps states to actions\n",
    "- The strategy that the agent employs to determine next action based on the current state."
   ]
  },
  {
   "cell_type": "markdown",
   "metadata": {
    "slideshow": {
     "slide_type": "fragment"
    }
   },
   "source": [
    "Value is the expected, discounted, long-term return, as opposed to the short-term reward R. \n",
    "\n",
    "$V_{π(s)}$ is  the expected, discounted, long-term return of the current state s following policy π."
   ]
  },
  {
   "cell_type": "markdown",
   "metadata": {
    "slideshow": {
     "slide_type": "slide"
    }
   },
   "source": [
    "<center><h2>Monte Carlo (MC) vs TD(0) Algorithm</h2></center>\n",
    "\n",
    "MC must wait for a complete game to update. A complete game is called an episode.\n",
    "\n",
    "TD(0) can update after each action (if there is a reward)."
   ]
  },
  {
   "cell_type": "markdown",
   "metadata": {
    "slideshow": {
     "slide_type": "slide"
    }
   },
   "source": [
    " "
   ]
  }
 ],
 "metadata": {
  "celltoolbar": "Raw Cell Format",
  "kernelspec": {
   "display_name": "Python 3",
   "language": "python",
   "name": "python3"
  },
  "language_info": {
   "codemirror_mode": {
    "name": "ipython",
    "version": 3
   },
   "file_extension": ".py",
   "mimetype": "text/x-python",
   "name": "python",
   "nbconvert_exporter": "python",
   "pygments_lexer": "ipython3",
   "version": "3.7.7"
  },
  "toc": {
   "base_numbering": 1,
   "nav_menu": {},
   "number_sections": false,
   "sideBar": false,
   "skip_h1_title": false,
   "title_cell": "Table of Contents",
   "title_sidebar": "Contents",
   "toc_cell": true,
   "toc_position": {},
   "toc_section_display": true,
   "toc_window_display": false
  }
 },
 "nbformat": 4,
 "nbformat_minor": 2
}
