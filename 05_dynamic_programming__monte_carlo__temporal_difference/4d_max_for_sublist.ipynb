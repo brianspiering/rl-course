{
 "cells": [
  {
   "cell_type": "markdown",
   "metadata": {
    "toc": true
   },
   "source": [
    "<h1>Table of Contents<span class=\"tocSkip\"></span></h1>\n",
    "<div class=\"toc\"><ul class=\"toc-item\"><li><span><a href=\"#Largest-sum-of-a-subarray-problem\" data-toc-modified-id=\"Largest-sum-of-a-subarray-problem-1\">Largest sum of a subarray problem</a></span></li><li><span><a href=\"#Largest-sum-of-a-subarray-solution\" data-toc-modified-id=\"Largest-sum-of-a-subarray-solution-2\">Largest sum of a subarray solution</a></span></li><li><span><a href=\"#Kadane's-algorithm-for-maximum-subarray-problem\" data-toc-modified-id=\"Kadane's-algorithm-for-maximum-subarray-problem-3\">Kadane's algorithm for maximum subarray problem</a></span></li><li><span><a href=\"#Complexity\" data-toc-modified-id=\"Complexity-4\">Complexity</a></span></li><li><span><a href=\"#References\" data-toc-modified-id=\"References-5\">References</a></span></li></ul></div>"
   ]
  },
  {
   "cell_type": "markdown",
   "metadata": {},
   "source": [
    "Largest sum of a subarray problem\n",
    "-----\n",
    "\n",
    "Given a list of numbers, find the maximum sum for a sublist.\n",
    "\n",
    "nums = [-10, 9, -1, 4, 5, 3, -50]\n",
    "max_sum = 20 # sum([9, -1, 4, 5, 3])"
   ]
  },
  {
   "cell_type": "code",
   "execution_count": 1,
   "metadata": {},
   "outputs": [],
   "source": [
    "reset -fs"
   ]
  },
  {
   "cell_type": "markdown",
   "metadata": {},
   "source": [
    "Largest sum of a subarray solution\n",
    "-----"
   ]
  },
  {
   "cell_type": "code",
   "execution_count": 2,
   "metadata": {},
   "outputs": [],
   "source": [
    "def max_sublist(nums):\n",
    "    \"Kadane's algorithm for maximum subarray problem.\"\n",
    "    current_sum, best_sum = nums[0], nums[0]     # Set baseline to first value\n",
    "    for n in nums[1:]:                           # Look at each number\n",
    "        current_sum = max(current_sum+n, n)      # Update current running max\n",
    "        best_sum    = max(best_sum, current_sum) # Update the winner\n",
    "    return best_sum \n",
    "\n",
    "assert max_sublist([6, -6, 4, 5])             ==  9  # sum([4, 5])\n",
    "assert max_sublist([6, -6, 4, 1, -5, 5])      ==  6  # sum([6])\n",
    "assert max_sublist([-6, -6, -4, -5, -1])      == -1  # sum([-1])\n",
    "assert max_sublist([-10, 9, -1, 4, 5, 3, -5]) == 20  # sum([9, -1, 4, 5, 3])"
   ]
  },
  {
   "cell_type": "markdown",
   "metadata": {},
   "source": [
    "Kadane's algorithm for maximum subarray problem\n",
    "----\n",
    "\n",
    "<center><img src=\"http://algorithm-wiki.org/wiki2/images/thumb/e/e9/Kad.jpg/300px-Kad.jpg\" width=\"75%\"/></center>\n",
    "\n",
    "Kadane's algorithm is based on splitting up the set of possible solutions into mutually exclusive (disjoint) sets. \n",
    "\n",
    "Any solution (i.e., any member of the set of solutions) will always have a last element `n`. Thus, we simply have to examine, one by one, the set of solutions whose last element `n`. \n",
    "\n",
    "The set of solutions whose element's each n in turn (aka, linear scan).\n",
    "\n",
    "These overlapping subproblems (the various sublists), this can be solved optimally with dynamic programming. We cache the best solutions seen thus far. In contrast to re-computing previously seen solutions."
   ]
  },
  {
   "cell_type": "markdown",
   "metadata": {},
   "source": [
    "Complexity\n",
    "----\n",
    "\n",
    "Time - O(n) where n is the length of the list\n",
    "\n",
    "Space - O(1) only stores two numbers"
   ]
  },
  {
   "cell_type": "markdown",
   "metadata": {},
   "source": [
    "References\n",
    "----\n",
    "\n",
    "- Question from Elements of Programming Interviews in Python p236\n",
    "- Reasonable answers: https://stackoverflow.com/questions/15062844/maximum-sum-sublist\n",
    "- https://en.wikipedia.org/wiki/Maximum_subarray_problem\n",
    "- http://algorithm-wiki.org/wiki2/index.php?title=Kadane%27s_algorithm"
   ]
  },
  {
   "cell_type": "markdown",
   "metadata": {},
   "source": [
    "<br>\n",
    "<br> \n",
    "<br>\n",
    "\n",
    "----"
   ]
  }
 ],
 "metadata": {
  "kernelspec": {
   "display_name": "Python 3",
   "language": "python",
   "name": "python3"
  },
  "language_info": {
   "codemirror_mode": {
    "name": "ipython",
    "version": 3
   },
   "file_extension": ".py",
   "mimetype": "text/x-python",
   "name": "python",
   "nbconvert_exporter": "python",
   "pygments_lexer": "ipython3",
   "version": "3.8.8"
  },
  "toc": {
   "base_numbering": 1,
   "nav_menu": {},
   "number_sections": false,
   "sideBar": false,
   "skip_h1_title": false,
   "title_cell": "Table of Contents",
   "title_sidebar": "Contents",
   "toc_cell": true,
   "toc_position": {},
   "toc_section_display": true,
   "toc_window_display": false
  }
 },
 "nbformat": 4,
 "nbformat_minor": 4
}
