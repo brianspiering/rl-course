{
 "cells": [
  {
   "cell_type": "markdown",
   "metadata": {
    "slideshow": {
     "slide_type": "skip"
    },
    "toc": true
   },
   "source": [
    "<h1>Table of Contents<span class=\"tocSkip\"></span></h1>\n",
    "<div class=\"toc\"><ul class=\"toc-item\"><li><span><a href=\"#Compare-DP,-MC,-and-TD\" data-toc-modified-id=\"Compare-DP,-MC,-and-TD-1\">Compare DP, MC, and TD</a></span></li><li><span><a href=\"#Learning-Outcomes\" data-toc-modified-id=\"Learning-Outcomes-2\">Learning Outcomes</a></span></li><li><span><a href=\"#Student-Activity\" data-toc-modified-id=\"Student-Activity-3\">Student Activity</a></span></li><li><span><a href=\"#Compare-the-3-Algorithms\" data-toc-modified-id=\"Compare-the-3-Algorithms-4\">Compare the 3 Algorithms</a></span></li><li><span><a href=\"#Check-for-understanding\" data-toc-modified-id=\"Check-for-understanding-5\">Check for understanding</a></span></li><li><span><a href=\"#Compare-algorithms-for-space-complexity\" data-toc-modified-id=\"Compare-algorithms-for-space-complexity-6\">Compare algorithms for space complexity</a></span></li><li><span><a href=\"#Which-of-these-algorithms-can-be-easily-parallelizable?\" data-toc-modified-id=\"Which-of-these-algorithms-can-be-easily-parallelizable?-7\">Which of these algorithms can be easily parallelizable?</a></span></li><li><span><a href=\"#Takeaways\" data-toc-modified-id=\"Takeaways-8\">Takeaways</a></span></li><li><span><a href=\"#Bonus-Materials\" data-toc-modified-id=\"Bonus-Materials-9\">Bonus Materials</a></span></li><li><span><a href=\"#General-problem-solving-techniques-for-any-type-of-engineering-problem\" data-toc-modified-id=\"General-problem-solving-techniques-for-any-type-of-engineering-problem-10\">General problem solving techniques for any type of engineering problem</a></span></li><li><span><a href=\"#Another-game-to-solve-with-dynamic-programming\" data-toc-modified-id=\"Another-game-to-solve-with-dynamic-programming-11\">Another game to solve with dynamic programming</a></span></li></ul></div>"
   ]
  },
  {
   "cell_type": "markdown",
   "metadata": {
    "slideshow": {
     "slide_type": "slide"
    }
   },
   "source": [
    "<center><h2>Compare DP, MC, and TD</h2></center>"
   ]
  },
  {
   "cell_type": "markdown",
   "metadata": {
    "slideshow": {
     "slide_type": "slide"
    }
   },
   "source": [
    "<center><h2>Learning Outcomes</h2></center>\n",
    "\n",
    "__By the end of this session, you should be able to__:\n",
    "\n",
    "- Compare the following algorithms:\n",
    "    - Dynamic Programming (DP)\n",
    "    - Monte Carlo (MC)\n",
    "    - Temporal difference (TD)\n",
    "- In the following ways:\n",
    "    - How often they update the Value Function?\n",
    "    - How much data they store (i.e., space complexity)?"
   ]
  },
  {
   "cell_type": "markdown",
   "metadata": {},
   "source": [
    "<center><h2>Student Activity</h2></center>\n",
    "\n",
    "In small groups, fill in this table:\n",
    "<br>\n",
    "<br>\n",
    "<center><b>When is the Value Function updated?</b></center>\n",
    "\n",
    "| Algorithm | How many states at time? | How many states ahead?| \n",
    "|:-------:|:------:|:------:|\n",
    "| ? | all | all| \n",
    "| ? | all | one|\n",
    "| ? | one | all|  \n",
    "| ? | one | one|  "
   ]
  },
  {
   "cell_type": "markdown",
   "metadata": {},
   "source": [
    "<center>How often is the Value Function updated?</center>\n",
    "\n",
    "| Algorithm | How many states at time | How many states ahead \n",
    "|:-------|:------:|:------:|\n",
    "| Exhaustive search / Brute force | all | all|  \n",
    "| Dynamic Programming (DP) | all | one|\n",
    "| Monte Carlo (MC) | one | all|\n",
    "| Temporal difference (TD) | one | one|  \n"
   ]
  },
  {
   "cell_type": "markdown",
   "metadata": {
    "slideshow": {
     "slide_type": "slide"
    }
   },
   "source": [
    "<center><h2>Compare the 3 Algorithms</h2></center> \n",
    "<center><img src=\"images/TD_MC_DP_backups.png\" width=\"100%\"/></center>"
   ]
  },
  {
   "cell_type": "markdown",
   "metadata": {
    "slideshow": {
     "slide_type": "skip"
    }
   },
   "source": [
    " [Source](https://lilianweng.github.io/lil-log/2018/02/19/a-long-peek-into-reinforcement-learning.html#temporal-difference-learning)"
   ]
  },
  {
   "cell_type": "markdown",
   "metadata": {
    "slideshow": {
     "slide_type": "slide"
    }
   },
   "source": [
    "<center><h2>Check for understanding</h2></center>\n",
    "\n",
    "Given what we know about the 3 algorithms (DP, MC, and TD), what would be the space requirements for storing information for each?"
   ]
  },
  {
   "cell_type": "markdown",
   "metadata": {
    "slideshow": {
     "slide_type": "slide"
    }
   },
   "source": [
    "<center><h2>Compare algorithms for space complexity</h2></center>\n",
    "<br>\n",
    "<center><img src=\"images/compare.png\" width=\"80%\"/></center>"
   ]
  },
  {
   "cell_type": "markdown",
   "metadata": {},
   "source": [
    "<center><h2>Which of these algorithms can be easily parallelizable?</h2></center>\n",
    "\n",
    "- DP is difficult to parallelize since it is a \"wave\" across the state-action space.\n",
    "- MC is easy to parallelize since each episode is independent.It is easy to maintain a consistent estimate of mean reward.\n",
    "- TD is even easier to parallelize since it maintains less state. [Example from robotics](https://ieeexplore.ieee.org/document/7131566)"
   ]
  },
  {
   "cell_type": "markdown",
   "metadata": {
    "slideshow": {
     "slide_type": "slide"
    }
   },
   "source": [
    "<center><h2>Takeaways</h2></center>\n",
    "\n",
    "- There is trade-off between how data to locate and store.\n",
    "- If you can, look at all the data and store all of it (Exhaustive Search).\n",
    "- The minimum is look at and store just the current and next data point (Temporal difference (TD))\n"
   ]
  },
  {
   "cell_type": "markdown",
   "metadata": {},
   "source": [
    "Bonus Materials\n",
    "-----"
   ]
  },
  {
   "cell_type": "markdown",
   "metadata": {},
   "source": [
    "General problem solving techniques for any type of engineering problem\n",
    "-----\n",
    "\n",
    "- Analytical\n",
    "- Brute force\n",
    "- Efficient brute force (dynamic programming)\n",
    "- Simulation\n"
   ]
  },
  {
   "cell_type": "markdown",
   "metadata": {},
   "source": [
    "Another game to solve with dynamic programming\n",
    "------\n",
    "\n",
    "Clear code with comments!\n",
    "\n",
    "https://www.techiedelight.com/pots-gold-game-dynamic-programming/"
   ]
  },
  {
   "cell_type": "markdown",
   "metadata": {
    "slideshow": {
     "slide_type": "slide"
    }
   },
   "source": [
    " "
   ]
  },
  {
   "cell_type": "markdown",
   "metadata": {
    "slideshow": {
     "slide_type": "slide"
    }
   },
   "source": [
    "  "
   ]
  }
 ],
 "metadata": {
  "celltoolbar": "Raw Cell Format",
  "kernelspec": {
   "display_name": "Python 3",
   "language": "python",
   "name": "python3"
  },
  "language_info": {
   "codemirror_mode": {
    "name": "ipython",
    "version": 3
   },
   "file_extension": ".py",
   "mimetype": "text/x-python",
   "name": "python",
   "nbconvert_exporter": "python",
   "pygments_lexer": "ipython3",
   "version": "3.7.7"
  },
  "toc": {
   "base_numbering": 1,
   "nav_menu": {},
   "number_sections": false,
   "sideBar": false,
   "skip_h1_title": false,
   "title_cell": "Table of Contents",
   "title_sidebar": "Contents",
   "toc_cell": true,
   "toc_position": {},
   "toc_section_display": true,
   "toc_window_display": false
  }
 },
 "nbformat": 4,
 "nbformat_minor": 2
}
