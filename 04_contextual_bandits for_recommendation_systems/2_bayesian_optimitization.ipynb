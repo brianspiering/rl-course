{
 "cells": [
  {
   "cell_type": "markdown",
   "metadata": {
    "slideshow": {
     "slide_type": "slide"
    }
   },
   "source": [
    "<center><h2>Bayesian Optimization</h2></center>"
   ]
  },
  {
   "cell_type": "markdown",
   "metadata": {},
   "source": [
    "<center><h2>How do adaptive test for continuous features?</h2></center>\n",
    "\n",
    "You are optimizing a landing page for your pizza delivery website.\n",
    " \n",
    "You have tested blue vs red button for call-to-action. Your Product Manager wants to which shade of red is best (Similar to [Google testing for 40 shades of blue](https://iterativepath.wordpress.com/2012/10/29/testing-40-shades-of-blue-ab-testing/)!)\n",
    "\n",
    "Continuous features for buttons:\n",
    "\n",
    "- Continuously vary color\n",
    "- Continuously vary size\n",
    "- Continuously vary shape\n",
    "\n",
    "How to scale up multi-armed bandits?"
   ]
  },
  {
   "cell_type": "markdown",
   "metadata": {
    "slideshow": {
     "slide_type": "slide"
    }
   },
   "source": [
    "<center><h2>Learning Outcomes</h2></center>\n",
    "\n",
    "__By the end of this session, you should be able to__:\n",
    "\n",
    "- Define Bayesian Optimization in your own words.\n",
    "- Explain how Bayesian Optimization uses Gaussian Process.\n",
    "- List the steps in Bayesian Optimization.\n"
   ]
  },
  {
   "cell_type": "markdown",
   "metadata": {},
   "source": [
    "<center><h2>Bayesian Optimization</h2></center>\n",
    "\n",
    "\n",
    "\n",
    "A general method for \"learning to optimize\" an unknown function.\n",
    "\n",
    "Efficient sampling of all possible spaces, especially when the spaces are continuous and dependent."
   ]
  },
  {
   "cell_type": "markdown",
   "metadata": {},
   "source": [
    "[Source](https://towardsdatascience.com/shallow-understanding-on-bayesian-optimization-324b6c1f7083)"
   ]
  },
  {
   "cell_type": "markdown",
   "metadata": {
    "slideshow": {
     "slide_type": "slide"
    }
   },
   "source": [
    "How does BO work?\n",
    "----\n",
    "\n",
    "<center><img src=\"images/bo.jpeg\" width=\"75%\"/></center>\n",
    "\n",
    "Use previous observations of a function to determine the __next best__ point to sample the function. "
   ]
  },
  {
   "cell_type": "markdown",
   "metadata": {},
   "source": [
    "<center><h2>Bayesian Optimization Recipe</h2></center>\n",
    "\n",
    "1. Define domain (e.g., color spectrum)\n",
    "1. Define covariance function (e.g., how much do you think reward will change as a function of color? High or low variance over the domain?)\n",
    "1. Repeat until satisfied (or out of budget)\n",
    "    - Sample from best possible region, a combination of previous samples and where there is good potential for better values) \n",
    "    - Based on the sample re-estimate the posterior \n",
    "1. Return the best value"
   ]
  },
  {
   "cell_type": "markdown",
   "metadata": {
    "slideshow": {
     "slide_type": "slide"
    }
   },
   "source": [
    "Technical steps for Bayesian Optimization\n",
    "----\n",
    "\n",
    "1) Build Gaussian Process (GP) with points sampled so far\n"
   ]
  },
  {
   "cell_type": "markdown",
   "metadata": {
    "collapsed": true,
    "slideshow": {
     "slide_type": "fragment"
    }
   },
   "source": [
    "2) Optimize the fit of the GP"
   ]
  },
  {
   "cell_type": "markdown",
   "metadata": {
    "slideshow": {
     "slide_type": "fragment"
    }
   },
   "source": [
    "3) Find the point with the highest Expected Improvement.\n"
   ]
  },
  {
   "cell_type": "markdown",
   "metadata": {
    "slideshow": {
     "slide_type": "fragment"
    }
   },
   "source": [
    "4) Return optimal next-best-point to sample"
   ]
  },
  {
   "cell_type": "markdown",
   "metadata": {
    "slideshow": {
     "slide_type": "fragment"
    }
   },
   "source": [
    "5) Repeat steps 1-4 until satisfied (or out of budget)"
   ]
  },
  {
   "cell_type": "markdown",
   "metadata": {},
   "source": [
    "6) Return scalar(s) that has the largest rewards(s)."
   ]
  },
  {
   "cell_type": "markdown",
   "metadata": {
    "slideshow": {
     "slide_type": "slide"
    }
   },
   "source": [
    "What the hell is a Gaussian process (GP)?\n",
    "------\n",
    "<br>\n",
    "<center><img src=\"images/gp.png\" width=\"700\"/></center>\n",
    "\n",
    "What is statistical Process?\n",
    "\n",
    "A statistical object (typically a distribution) that changes over time and space.\n",
    "\n",
    "a Gaussian process (GP) is the generalization of a standard Gaussian distribution.\n",
    "\n",
    "GP is a __distribution over functions__ (Gaussian distribution is a distribution over random variables)."
   ]
  },
  {
   "cell_type": "markdown",
   "metadata": {
    "collapsed": true,
    "slideshow": {
     "slide_type": "slide"
    }
   },
   "source": [
    "GP parameters\n",
    "-----\n",
    "\n",
    "A Gaussian distribution is completely specified by its mean and variance\n",
    "\n",
    "A GP is completely specified by its mean __function__ m(__x__), and covariance __function__ k(__x__,__x′__)."
   ]
  },
  {
   "cell_type": "markdown",
   "metadata": {
    "slideshow": {
     "slide_type": "slide"
    }
   },
   "source": [
    "GP: Points go in, Normal Distributions come out\n",
    "-----\n",
    "\n",
    "<br>\n",
    "<center><img src=\"images/gp.png\" width=\"700\"/></center>\n",
    "\n",
    "We can think of a GP as a function that, instead of returning a scalar f(x), returns __the mean and variance__ of a normal distribution over the possible values of f at x.\n"
   ]
  },
  {
   "cell_type": "markdown",
   "metadata": {
    "slideshow": {
     "slide_type": "skip"
    }
   },
   "source": [
    "GP formalism\n",
    "------\n",
    "\n",
    "For a set of data points x<sub></sub>1:n<sub></sub> = {x<sub>1</sub>,…,x<sub>n</sub>}x1:n={x1,…,xn},   \n",
    "we assume that the values of the loss function f<sub>1:n</sub>={f(x<sub>1</sub>),…,f(x<sub>n</sub>)} can be described by a multivariate Gaussian distribution:\n",
    "\n",
    "f<sub>1:n</sub> ∼ N(m(x<sub>1:n</sub>), K)"
   ]
  },
  {
   "cell_type": "markdown",
   "metadata": {
    "slideshow": {
     "slide_type": "slide"
    }
   },
   "source": [
    "GP FTW\n",
    "-----\n",
    "\n",
    "<center><img src=\"images/after.png\" width=\"700\"/></center>\n",
    "\n",
    "It results in a posterior distribution over the loss function that is analytically tractable. This allows us to update our beliefs of what function looks like, after we have computed the loss for a new set of hyperparameters."
   ]
  },
  {
   "cell_type": "markdown",
   "metadata": {
    "slideshow": {
     "slide_type": "slide"
    }
   },
   "source": [
    "Acquisition functions\n",
    "------\n",
    "\n",
    "To find the next best point to sample from, we will choose the point that maximizes an acquisition function. "
   ]
  },
  {
   "cell_type": "markdown",
   "metadata": {
    "slideshow": {
     "slide_type": "fragment"
    }
   },
   "source": [
    "This is a function of the posterior distribution over the function, that describes the utility for all values that we could search for. "
   ]
  },
  {
   "cell_type": "markdown",
   "metadata": {
    "slideshow": {
     "slide_type": "fragment"
    }
   },
   "source": [
    "The values with the highest utility, will be the values for which we compute the loss next."
   ]
  },
  {
   "cell_type": "markdown",
   "metadata": {
    "slideshow": {
     "slide_type": "slide"
    }
   },
   "source": [
    "Expected Improvement (EI) function\n",
    "-----\n",
    "\n",
    "$$EI(x) = 𝔼 [max{0, f(x) - f(x̂)}]$$\n",
    "\n",
    "The most popular acquisition function"
   ]
  },
  {
   "cell_type": "markdown",
   "metadata": {
    "collapsed": true,
    "slideshow": {
     "slide_type": "slide"
    }
   },
   "source": [
    "EI properties\n",
    "-------\n",
    "\n",
    "1. EI is high when the (posterior) expected value of the loss $μ_x$ is higher than the current best value f(x̂)\n",
    "2. EI is high when the uncertainty $σ_x$ around the point x is high."
   ]
  },
  {
   "cell_type": "markdown",
   "metadata": {
    "slideshow": {
     "slide_type": "fragment"
    }
   },
   "source": [
    "<center><h2>Expected Improvement is learned exploitation versus exploration</h2></center>\n",
    "\n",
    "Initially, we just guess (hopefully based on informed priors).\n",
    "\n",
    "Over time, we empirically learn where we can maximize or where we should explore.\n",
    "\n",
    "Bayesian Optimization is way better than any version of Epsilon-Greedy."
   ]
  },
  {
   "cell_type": "markdown",
   "metadata": {
    "slideshow": {
     "slide_type": "slide"
    }
   },
   "source": [
    "[Let's check out a demo](https://distill.pub/2020/bayesian-optimization/)"
   ]
  },
  {
   "cell_type": "markdown",
   "metadata": {
    "slideshow": {
     "slide_type": "slide"
    }
   },
   "source": [
    "EI Example: Early in Training\n",
    "-------\n",
    "<br>\n",
    "<center><img src=\"images/ep1.png\" width=\"500\"/></center>\n",
    "\n",
    "\"Unknown Unknowns\": A single know value and high variances"
   ]
  },
  {
   "cell_type": "markdown",
   "metadata": {
    "slideshow": {
     "slide_type": "slide"
    }
   },
   "source": [
    "EI Example: Later in Training\n",
    "-------\n",
    "<br>\n",
    "<center><img src=\"images/ep.png\" width=\"650\"/></center>\n",
    "\n",
    "Known optimium values with low variance."
   ]
  },
  {
   "cell_type": "markdown",
   "metadata": {
    "slideshow": {
     "slide_type": "slide"
    }
   },
   "source": [
    "BO results\n",
    "-----\n",
    "\n",
    "<center><img src=\"http://scikit-learn.org/0.17/_images/plot_gp_regression_0011.png\" width=\"700\"/></center>"
   ]
  },
  {
   "cell_type": "code",
   "execution_count": 1,
   "metadata": {
    "slideshow": {
     "slide_type": "slide"
    }
   },
   "outputs": [
    {
     "data": {
      "image/jpeg": "[encoded data removed]",
      "text/html": [
       "\n",
       "        <iframe\n",
       "            width=\"400\"\n",
       "            height=\"300\"\n",
       "            src=\"https://www.youtube.com/embed/R3wIEzkv4Pg\"\n",
       "            frameborder=\"0\"\n",
       "            allowfullscreen\n",
       "        ></iframe>\n",
       "        "
      ],
      "text/plain": [
       "<IPython.lib.display.YouTubeVideo at 0x105c71610>"
      ]
     },
     "execution_count": 1,
     "metadata": {},
     "output_type": "execute_result"
    }
   ],
   "source": [
    "# Example of simulated robot learning to grasp novel object\n",
    "from IPython.display import YouTubeVideo\n",
    "\n",
    "YouTubeVideo(\"R3wIEzkv4Pg\")"
   ]
  },
  {
   "cell_type": "markdown",
   "metadata": {
    "slideshow": {
     "slide_type": "slide"
    }
   },
   "source": [
    "Check for understanding\n",
    "------\n",
    "\n",
    "When do you stop Bayesian optimization?"
   ]
  },
  {
   "cell_type": "markdown",
   "metadata": {
    "slideshow": {
     "slide_type": "fragment"
    }
   },
   "source": [
    "1. When you get a good answer with high confidence\n",
    "2. Pre-specified number of iterations\n",
    "3. Run out of budget (say serving low latency ads)"
   ]
  },
  {
   "cell_type": "markdown",
   "metadata": {
    "slideshow": {
     "slide_type": "slide"
    }
   },
   "source": [
    "Tips and tricks\n",
    "-----\n",
    "\n",
    "Unfortunately, it is not always that easy to get such good results with Bayesian optimization.\n",
    "\n",
    "\n"
   ]
  },
  {
   "cell_type": "markdown",
   "metadata": {
    "slideshow": {
     "slide_type": "fragment"
    }
   },
   "source": [
    "1) Choose an appropriate scale for your features\n",
    "\n",
    "There is tension between choosing everything and limiting the spread.\n",
    "\n",
    "There is often combinatorial explosiong with search."
   ]
  },
  {
   "cell_type": "markdown",
   "metadata": {
    "slideshow": {
     "slide_type": "fragment"
    }
   },
   "source": [
    "2) Kernel of the GP \n",
    "\n",
    "[Example Kernels](http://www.cs.toronto.edu/~duvenaud/cookbook/)"
   ]
  },
  {
   "cell_type": "markdown",
   "metadata": {
    "slideshow": {
     "slide_type": "skip"
    }
   },
   "source": [
    "[more on kernels](https://arxiv.org/pdf/1302.4245.pdf)"
   ]
  },
  {
   "cell_type": "markdown",
   "metadata": {
    "slideshow": {
     "slide_type": "skip"
    }
   },
   "source": [
    "Different kernels have a drastic effect on the performance of the search algorithm. Each kernel implicitly assumes different properties on the loss ff, in terms of differentiability and periodicity."
   ]
  },
  {
   "cell_type": "markdown",
   "metadata": {
    "slideshow": {
     "slide_type": "fragment"
    }
   },
   "source": [
    "3) Uniqueness of features"
   ]
  },
  {
   "cell_type": "markdown",
   "metadata": {
    "slideshow": {
     "slide_type": "skip"
    }
   },
   "source": [
    "Often features are correlated.\n",
    "\n",
    "A solution is to add jitter (noise) to the diagonal of the covariance matrix. "
   ]
  },
  {
   "cell_type": "markdown",
   "metadata": {},
   "source": [
    "End-to-end website optimization\n",
    "-------\n",
    "\n",
    "I predict in the future we could create a single giant features space then use Bayesian Optimization to efficiently sample from it.\n",
    "\n",
    "Imagine a system that:\n",
    "\n",
    "1. Generates its own candidate tests\n",
    "2. Dynamically runs the experiments\n",
    "3. Automatically picks winners\n",
    "\n",
    "No Product Managers, No Data Scientists, No Vice Presidents.\n",
    "\n",
    "Lights out manufacturing for websites. Liberate websites!"
   ]
  },
  {
   "cell_type": "markdown",
   "metadata": {},
   "source": [
    "<center><h2>Bayesian Optimization for Hyperparameter Tuning of machine learning models</h2></center>\n",
    "\n",
    "Bayesian Optimization is a general method that can tune any black box function.\n",
    "\n",
    "ML hyperparameter - can repeatedly sample but it is expensive. It is nested loop problem (hyperparameter search, then parameter search)."
   ]
  },
  {
   "cell_type": "markdown",
   "metadata": {
    "slideshow": {
     "slide_type": "slide"
    }
   },
   "source": [
    "<center><h2>Takeaways</h2></center>\n",
    "\n",
    "- Bayesian Optimization (BO) is a method for efficient search of any space.\n",
    "- BO uses a Gaussian Process (GP). GP extend Gaussian Distributions to be functions.\n",
    "- The level of uncertainty in the spaces that reduce through sampling.\n",
    "- We pick the next best place to sample with Expected Improvement (EI) function, which balances best outcomes and reducing uncertainty.\n",
    "- BO is still immature (i.e., tricky) in application."
   ]
  },
  {
   "cell_type": "markdown",
   "metadata": {},
   "source": [
    "<center><h2>Sources of Inspiration</h2></center>\n",
    "\n",
    "- https://distill.pub/2020/bayesian-optimization/\n",
    "- [Taking the Human Out of the Loop: A Review of Bayesian Optimization](https://ieeexplore.ieee.org/document/7352306) by Shahriari et al.\n",
    "-  A Tutorial on Bayesian Optimization for Machine Learning by Adams\n",
    "- [Tutorial: Bayesian Optimization](https://www.youtube.com/watch?v=c4KKvyWW_Xk) by Frazier"
   ]
  },
  {
   "cell_type": "markdown",
   "metadata": {
    "slideshow": {
     "slide_type": "slide"
    }
   },
   "source": [
    "<br>"
   ]
  },
  {
   "cell_type": "markdown",
   "metadata": {
    "slideshow": {
     "slide_type": "slide"
    }
   },
   "source": [
    "Bonus Material\n",
    "---"
   ]
  },
  {
   "cell_type": "markdown",
   "metadata": {
    "slideshow": {
     "slide_type": "slide"
    }
   },
   "source": [
    "Creating a BO model\n",
    "------\n",
    "\n",
    "Assume we have a normal likelihood with noise:  \n",
    "<br>\n",
    "y = f(__x__) + ε, ε ~ N(f(__x__), σ<sup>2</sup><sub>ε</sub>)"
   ]
  },
  {
   "cell_type": "markdown",
   "metadata": {
    "slideshow": {
     "slide_type": "slide"
    }
   },
   "source": [
    "Bayesian optimization steps\n",
    "------\n",
    "\n",
    "1) Given observed values f(x), update the posterior expectation of f using the GP model\n"
   ]
  },
  {
   "cell_type": "markdown",
   "metadata": {
    "slideshow": {
     "slide_type": "fragment"
    }
   },
   "source": [
    "2) Find x<sub>new</sub> that maximises the EI: x<sub>new</sub> = argmax EI(x)"
   ]
  },
  {
   "cell_type": "markdown",
   "metadata": {
    "slideshow": {
     "slide_type": "fragment"
    }
   },
   "source": [
    "3) Compute the value of f for the point x<sub>new</sub>"
   ]
  },
  {
   "cell_type": "markdown",
   "metadata": {
    "collapsed": true,
    "slideshow": {
     "slide_type": "fragment"
    }
   },
   "source": [
    "or in Bayesian terms:  \n",
    "<br>\n",
    "y | f ~ N( f(__x__), σ<sup>2</sup><sub>ε</sub>)"
   ]
  },
  {
   "cell_type": "markdown",
   "metadata": {
    "slideshow": {
     "slide_type": "fragment"
    }
   },
   "source": [
    "For the prior distribution, we assume that the loss function f can be described by a Gaussian process (GP). "
   ]
  },
  {
   "cell_type": "markdown",
   "metadata": {
    "slideshow": {
     "slide_type": "slide"
    }
   },
   "source": [
    "Other Activation Functions\n",
    "------\n",
    "<br>\n",
    "<center><img src=\"images/act.png\" width=\"700\"/></center>"
   ]
  },
  {
   "cell_type": "markdown",
   "metadata": {
    "slideshow": {
     "slide_type": "slide"
    }
   },
   "source": [
    "<br>\n",
    "<br>"
   ]
  }
 ],
 "metadata": {
  "anaconda-cloud": {},
  "celltoolbar": "Raw Cell Format",
  "kernelspec": {
   "display_name": "Python 3",
   "language": "python",
   "name": "python3"
  },
  "language_info": {
   "codemirror_mode": {
    "name": "ipython",
    "version": 3
   },
   "file_extension": ".py",
   "mimetype": "text/x-python",
   "name": "python",
   "nbconvert_exporter": "python",
   "pygments_lexer": "ipython3",
   "version": "3.7.7"
  },
  "toc": {
   "base_numbering": 1,
   "nav_menu": {},
   "number_sections": false,
   "sideBar": false,
   "skip_h1_title": false,
   "title_cell": "Table of Contents",
   "title_sidebar": "Contents",
   "toc_cell": true,
   "toc_position": {},
   "toc_section_display": true,
   "toc_window_display": false
  }
 },
 "nbformat": 4,
 "nbformat_minor": 1
}
