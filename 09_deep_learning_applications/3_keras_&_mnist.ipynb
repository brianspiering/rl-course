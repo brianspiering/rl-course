{
 "cells": [
  {
   "cell_type": "markdown",
   "metadata": {
    "slideshow": {
     "slide_type": "skip"
    },
    "toc": true
   },
   "source": [
    "<h1>Table of Contents<span class=\"tocSkip\"></span></h1>\n",
    "<div class=\"toc\"><ul class=\"toc-item\"><li><span><a href=\"#Keras\" data-toc-modified-id=\"Keras-1\">Keras</a></span></li><li><span><a href=\"#Keras\" data-toc-modified-id=\"Keras-2\">Keras</a></span></li><li><span><a href=\"#Keras---Neural-Networks-for-humans\" data-toc-modified-id=\"Keras---Neural-Networks-for-humans-3\">Keras - Neural Networks for humans</a></span></li><li><span><a href=\"#Check-for-understanding\" data-toc-modified-id=\"Check-for-understanding-4\">Check for understanding</a></span></li><li><span><a href=\"#SQL\" data-toc-modified-id=\"SQL-5\">SQL</a></span></li><li><span><a href=\"#TensorFlow:-A-great-backend\" data-toc-modified-id=\"TensorFlow:-A-great-backend-6\">TensorFlow: A great backend</a></span></li><li><span><a href=\"#TensorFlow:-A-great-backend\" data-toc-modified-id=\"TensorFlow:-A-great-backend-7\">TensorFlow: A great backend</a></span></li><li><span><a href=\"#TensorFlow:-A-great-backend\" data-toc-modified-id=\"TensorFlow:-A-great-backend-8\">TensorFlow: A great backend</a></span></li><li><span><a href=\"#Check-for-understanding\" data-toc-modified-id=\"Check-for-understanding-9\">Check for understanding</a></span></li><li><span><a href=\"#What-digit-is-this?\" data-toc-modified-id=\"What-digit-is-this?-10\">What digit is this?</a></span></li><li><span><a href=\"#MNIST:-The-“Hello-World!”-of-computer-vision\" data-toc-modified-id=\"MNIST:-The-“Hello-World!”-of-computer-vision-11\">MNIST: The “Hello World!” of computer vision</a></span></li><li><span><a href=\"#The-power-of-common-tasks\" data-toc-modified-id=\"The-power-of-common-tasks-12\">The power of common tasks</a></span></li><li><span><a href=\"#Check-for-understanding\" data-toc-modified-id=\"Check-for-understanding-13\">Check for understanding</a></span></li></ul></div>"
   ]
  },
  {
   "cell_type": "markdown",
   "metadata": {
    "slideshow": {
     "slide_type": "slide"
    }
   },
   "source": [
    "<center><h2>Keras</h2></center>\n",
    "\n",
    "<center><img src=\"https://keras.io/img/keras-logo-small.jpg\" width=\"45%\"/></center>"
   ]
  },
  {
   "cell_type": "markdown",
   "metadata": {
    "slideshow": {
     "slide_type": "slide"
    }
   },
   "source": [
    "Keras\n",
    "----\n",
    "\n",
    "A higher-level, more intuitive API for building Neural Networks.\n",
    "\n",
    "Focus on enabling fast experimentation by using a simple and highly modular interface.\n",
    "\n",
    "Easy-to-define neural networks. Abstracts away these lower level libraries, free from “implementation details”."
   ]
  },
  {
   "cell_type": "markdown",
   "metadata": {
    "slideshow": {
     "slide_type": "fragment"
    }
   },
   "source": []
  },
  {
   "cell_type": "markdown",
   "metadata": {
    "slideshow": {
     "slide_type": "slide"
    }
   },
   "source": [
    "Keras - Neural Networks for humans\n",
    "-----\n",
    "\n",
    "Puts user experience front and center. \n",
    "\n",
    "Designed for human beings, not machines. \n",
    "\n"
   ]
  },
  {
   "cell_type": "markdown",
   "metadata": {
    "slideshow": {
     "slide_type": "fragment"
    }
   },
   "source": [
    "Keras follows best practices for reducing cognitive load: \n",
    "\n",
    "- Offers consistent & simple APIs\n",
    "- Minimizes the number of user actions required for common use cases\n",
    "- Provides clear and actionable feedback upon user error."
   ]
  },
  {
   "cell_type": "markdown",
   "metadata": {
    "slideshow": {
     "slide_type": "slide"
    }
   },
   "source": [
    "Check for understanding\n",
    "-----\n",
    "\n",
    "What is another example of separating user interface from backend execution?"
   ]
  },
  {
   "cell_type": "markdown",
   "metadata": {
    "slideshow": {
     "slide_type": "slide"
    }
   },
   "source": [
    "<center><h2>SQL</h2></center>\n",
    "\n",
    "<center><img src=\"http://www.tutorialspoint.com/sql/images/sql-architecture.jpg\" width=\"55%\"/></center>"
   ]
  },
  {
   "cell_type": "markdown",
   "metadata": {
    "slideshow": {
     "slide_type": "slide"
    }
   },
   "source": [
    "<center><img src=\"images/twitter.png\" width=\"75%\"/></center>"
   ]
  },
  {
   "cell_type": "markdown",
   "metadata": {
    "slideshow": {
     "slide_type": "slide"
    }
   },
   "source": [
    "TensorFlow: A great backend\n",
    "------\n",
    "\n",
    "<center><img src=\"https://i.ytimg.com/vi/oZikw5k_2FM/maxresdefault.jpg\" width=\"55%\"/></center>\n",
    "\n",
    "\"An open-source software library for Machine Intelligence\"\n",
    "\n",
    "Does numerical computation using data flow graphs. "
   ]
  },
  {
   "cell_type": "markdown",
   "metadata": {
    "slideshow": {
     "slide_type": "slide"
    }
   },
   "source": [
    "TensorFlow: A great backend\n",
    "------\n",
    "\n",
    "<br>\n",
    "\n",
    "<center><img src=\"http://cdn.thenewstack.io/media/2015/11/tensorflow-1.png\" width=\"55%\"/></center>\n",
    "\n",
    "Nodes represent mathematical operations\n",
    "\n",
    "Edges represent the multidimensional data arrays (tensors) communicated between them."
   ]
  },
  {
   "cell_type": "markdown",
   "metadata": {
    "slideshow": {
     "slide_type": "slide"
    }
   },
   "source": [
    "<center><img src=\"https://wookayin.github.io/tensorflow-talk-debugging/images/tensors_flowing.gif\" width=\"35%\"/></center>"
   ]
  },
  {
   "cell_type": "markdown",
   "metadata": {
    "slideshow": {
     "slide_type": "slide"
    }
   },
   "source": [
    "TensorFlow: A great backend\n",
    "------\n",
    "\n",
    "The __very__ flexible architecture allows you to do almost any operation\n",
    "\n",
    "Then deploy computation to CPUs ( one or more), GPUs in a desktop, cloud, or mobile device. "
   ]
  },
  {
   "cell_type": "markdown",
   "metadata": {
    "slideshow": {
     "slide_type": "slide"
    }
   },
   "source": [
    "Check for understanding\n",
    "------\n",
    "\n",
    "Why are we learning Keras, not TensorFlow?"
   ]
  },
  {
   "cell_type": "markdown",
   "metadata": {
    "slideshow": {
     "slide_type": "fragment"
    }
   },
   "source": [
    "Focus the __what__, not the __how__.\n",
    "\n",
    "We want to build NN without getting distracted on the implementation details."
   ]
  },
  {
   "cell_type": "markdown",
   "metadata": {
    "slideshow": {
     "slide_type": "slide"
    }
   },
   "source": [
    "<center><h2>What digit is this?</h2></center>\n",
    "\n",
    "<center><img src=\"images/nine.png\" width=\"35%\"/></center>"
   ]
  },
  {
   "cell_type": "markdown",
   "metadata": {
    "slideshow": {
     "slide_type": "fragment"
    }
   },
   "source": [
    "<center>It is a 9</center>"
   ]
  },
  {
   "cell_type": "markdown",
   "metadata": {
    "slideshow": {
     "slide_type": "slide"
    }
   },
   "source": [
    "<center><h2>MNIST: The “Hello World!” of computer vision</h2></center>\n",
    "\n",
    "<center><img src=\"images/mnistExamples.png\" width=\"75%\"/></center>\n",
    "\n",
    "<center>Classify handwritten digits 0-9</center>"
   ]
  },
  {
   "cell_type": "markdown",
   "metadata": {
    "slideshow": {
     "slide_type": "slide"
    }
   },
   "source": [
    "The power of common tasks\n",
    "----\n",
    "\n",
    "- Public data\n",
    "- Consistent metrics\n",
    "- Easy-to-improve benchmarks\n",
    "\n",
    "Common in CS, ML, and DL.\n",
    "\n",
    "Not common in other fields.\n"
   ]
  },
  {
   "cell_type": "markdown",
   "metadata": {
    "slideshow": {
     "slide_type": "slide"
    }
   },
   "source": [
    "<center><img src=\"images/MNIST-Matrix.png\" width=\"75%\"/></center>\n",
    "\n",
    "Each pixel is an input.\n",
    "\n",
    "Input value ranges 0-255 (white to black). Often normalized to 0 to 1."
   ]
  },
  {
   "cell_type": "markdown",
   "metadata": {
    "slideshow": {
     "slide_type": "slide"
    }
   },
   "source": [
    "<center><img src=\"images/MNIST_neuralnet_image.png\" width=\"100%\"/></center>"
   ]
  },
  {
   "cell_type": "markdown",
   "metadata": {
    "slideshow": {
     "slide_type": "slide"
    }
   },
   "source": [
    "\n",
    "<center><img src=\"images/mnist_arch.png\" width=\"75%\"/></center>"
   ]
  },
  {
   "cell_type": "markdown",
   "metadata": {
    "slideshow": {
     "slide_type": "slide"
    }
   },
   "source": [
    "Check for understanding\n",
    "------\n",
    "\n",
    "Why is digit recognition useful?"
   ]
  },
  {
   "cell_type": "markdown",
   "metadata": {
    "slideshow": {
     "slide_type": "slide"
    }
   },
   "source": [
    "<center><img src=\"http://www.brokersdata.com/images/Real-pen-envelope-sample.jpg\" width=\"75%\"/></center>"
   ]
  },
  {
   "cell_type": "markdown",
   "metadata": {
    "slideshow": {
     "slide_type": "slide"
    }
   },
   "source": [
    " "
   ]
  }
 ],
 "metadata": {
  "celltoolbar": "Slideshow",
  "kernelspec": {
   "display_name": "Python 3",
   "language": "python",
   "name": "python3"
  },
  "language_info": {
   "codemirror_mode": {
    "name": "ipython",
    "version": 3
   },
   "file_extension": ".py",
   "mimetype": "text/x-python",
   "name": "python",
   "nbconvert_exporter": "python",
   "pygments_lexer": "ipython3",
   "version": "3.7.7"
  },
  "toc": {
   "base_numbering": 1,
   "nav_menu": {},
   "number_sections": false,
   "sideBar": false,
   "skip_h1_title": false,
   "title_cell": "Table of Contents",
   "title_sidebar": "Contents",
   "toc_cell": true,
   "toc_position": {},
   "toc_section_display": true,
   "toc_window_display": false
  }
 },
 "nbformat": 4,
 "nbformat_minor": 2
}
