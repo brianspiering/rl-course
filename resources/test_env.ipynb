{
 "cells": [
  {
   "cell_type": "markdown",
   "metadata": {
    "toc": true
   },
   "source": [
    "<h1>Table of Contents<span class=\"tocSkip\"></span></h1>\n",
    "<div class=\"toc\"><ul class=\"toc-item\"><li><span><a href=\"#Setup\" data-toc-modified-id=\"Setup-1\">Setup</a></span></li><li><span><a href=\"#Setup-env-on-your-local-computer\" data-toc-modified-id=\"Setup-env-on-your-local-computer-2\">Setup env on your local computer</a></span></li></ul></div>"
   ]
  },
  {
   "cell_type": "markdown",
   "metadata": {},
   "source": [
    "<center><h2>Setup</h2></center>\n",
    "\n",
    "\n",
    "<center><img src=\"https://imgs.xkcd.com/comics/python_environment.png\" width=\"45%\"/></center>"
   ]
  },
  {
   "cell_type": "markdown",
   "metadata": {
    "collapsed": true
   },
   "source": [
    "Setup env on your local computer\n",
    "-----\n",
    "\n",
    "1. Install [Anaconda distribution Python 3.x version](https://www.anaconda.com/download/) \n",
    "1. `cd` into `resources/` \n",
    "1. Run `$ sh setup.sh`\n",
    "1. Wait ⌛\n",
    "1. Run\n",
    "    1. `$ conda activate rl`\n",
    "    2. `$ jupyter notebook`"
   ]
  },
  {
   "cell_type": "code",
   "execution_count": 12,
   "metadata": {},
   "outputs": [],
   "source": [
    "import sys\n",
    "\n",
    "# Make sure the environment was started\n",
    "assert sys.base_prefix.endswith(\"rl\")"
   ]
  },
  {
   "cell_type": "code",
   "execution_count": 13,
   "metadata": {},
   "outputs": [],
   "source": [
    "from platform import python_version\n",
    "\n",
    "# Make sure we are using Python 3.7 \n",
    "assert python_version().startswith('3.7')"
   ]
  },
  {
   "cell_type": "code",
   "execution_count": 14,
   "metadata": {},
   "outputs": [],
   "source": [
    "# Kick the tires\n",
    "try:\n",
    "    import numpy as np\n",
    "    import tensorflow as tf\n",
    "    import torch\n",
    "except ModuleNotFoundError:\n",
    "    print(\"Ask for help ✋\")"
   ]
  },
  {
   "cell_type": "code",
   "execution_count": 15,
   "metadata": {},
   "outputs": [],
   "source": [
    "# Make sure we are using at least TensorFlow 2.0 \n",
    "assert tf.__version__.startswith('2.')"
   ]
  },
  {
   "cell_type": "code",
   "execution_count": 16,
   "metadata": {},
   "outputs": [],
   "source": [
    "# Make sure we are using PyTorch 1.5\n",
    "assert torch.__version__.startswith('1.5')"
   ]
  },
  {
   "cell_type": "markdown",
   "metadata": {},
   "source": [
    "If broken:\n",
    "    \n",
    "- Think - Ask yourself, what could be going wrong?\n",
    "- Pair - Ask someone still nearby, what could be going wrong?\n",
    "- Share - Ask the instructor, what could be going wrong?"
   ]
  },
  {
   "cell_type": "markdown",
   "metadata": {},
   "source": [
    "<br>\n",
    "<br> \n",
    "<br>\n",
    "\n",
    "----"
   ]
  }
 ],
 "metadata": {
  "anaconda-cloud": {},
  "kernelspec": {
   "display_name": "Python 3",
   "language": "python",
   "name": "python3"
  },
  "language_info": {
   "codemirror_mode": {
    "name": "ipython",
    "version": 3
   },
   "file_extension": ".py",
   "mimetype": "text/x-python",
   "name": "python",
   "nbconvert_exporter": "python",
   "pygments_lexer": "ipython3",
   "version": "3.7.7"
  },
  "toc": {
   "base_numbering": 1,
   "nav_menu": {},
   "number_sections": false,
   "sideBar": false,
   "skip_h1_title": false,
   "title_cell": "Table of Contents",
   "title_sidebar": "Contents",
   "toc_cell": true,
   "toc_position": {},
   "toc_section_display": true,
   "toc_window_display": false
  }
 },
 "nbformat": 4,
 "nbformat_minor": 1
}
