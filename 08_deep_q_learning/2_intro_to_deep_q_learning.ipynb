{
 "cells": [
  {
   "cell_type": "markdown",
   "metadata": {
    "slideshow": {
     "slide_type": "skip"
    },
    "toc": true
   },
   "source": [
    "<h1>Table of Contents<span class=\"tocSkip\"></span></h1>\n",
    "<div class=\"toc\"><ul class=\"toc-item\"><li><span><a href=\"#Deep-Reinforcement-Learning\" data-toc-modified-id=\"Deep-Reinforcement-Learning-1\">Deep Reinforcement Learning</a></span></li><li><span><a href=\"#Learning-Outcomes\" data-toc-modified-id=\"Learning-Outcomes-2\">Learning Outcomes</a></span></li><li><span><a href=\"#&quot;Playing-Atari-with-Deep-Reinforcement-Learning&quot;-from-DeepMind\" data-toc-modified-id=\"&quot;Playing-Atari-with-Deep-Reinforcement-Learning&quot;-from-DeepMind-3\">\"Playing Atari with Deep Reinforcement Learning\" from DeepMind</a></span></li><li><span><a href=\"#Deep-Reinforcement-Learning-for-video-games\" data-toc-modified-id=\"Deep-Reinforcement-Learning-for-video-games-4\">Deep Reinforcement Learning for video games</a></span></li><li><span><a href=\"#Reinforcement-Learning-can-handle-sparse-and-time-delayed-labels.\" data-toc-modified-id=\"Reinforcement-Learning-can-handle-sparse-and-time-delayed-labels.-5\">Reinforcement Learning can handle <b>sparse</b> and <b>time-delayed</b> labels.</a></span></li><li><span><a href=\"#Deep-Reinforcement-Learning\" data-toc-modified-id=\"Deep-Reinforcement-Learning-6\">Deep Reinforcement Learning</a></span></li><li><span><a href=\"#Why-deep-learning-for-Reinforcement-Learning?\" data-toc-modified-id=\"Why-deep-learning-for-Reinforcement-Learning?-7\">Why deep learning for Reinforcement Learning?</a></span></li><li><span><a href=\"#What-is-the-key-data-structure-for-Deep-Q-learning-(DQN)?\" data-toc-modified-id=\"What-is-the-key-data-structure-for-Deep-Q-learning-(DQN)?-8\">What is the key data structure for Deep Q-learning (DQN)?</a></span></li><li><span><a href=\"#Replay-Buffer\" data-toc-modified-id=\"Replay-Buffer-9\">Replay Buffer</a></span></li><li><span><a href=\"#Different-Data-Structures\" data-toc-modified-id=\"Different-Data-Structures-10\">Different Data Structures</a></span></li><li><span><a href=\"#Why-“Experience-Replay”-batching-is-useful\" data-toc-modified-id=\"Why-“Experience-Replay”-batching-is-useful-11\">Why “Experience Replay” batching is useful</a></span></li><li><span><a href=\"#Frames-over-time-with-Reward-values\" data-toc-modified-id=\"Frames-over-time-with-Reward-values-12\">Frames over time with Reward values</a></span></li><li><span><a href=\"#Experience-Replay-as-Regularization-for-traditional-Q-learning\" data-toc-modified-id=\"Experience-Replay-as-Regularization-for-traditional-Q-learning-13\">Experience Replay as Regularization for traditional Q-learning</a></span></li><li><span><a href=\"#Stationary-vs.-Nonstationary-data\" data-toc-modified-id=\"Stationary-vs.-Nonstationary-data-14\">Stationary vs. Nonstationary data</a></span></li><li><span><a href=\"#-Nonstationary-Data-FTW-(literally-winning)\" data-toc-modified-id=\"-Nonstationary-Data-FTW-(literally-winning)-15\"> Nonstationary Data FTW (literally winning)</a></span></li><li><span><a href=\"#Actual-DQN-Results\" data-toc-modified-id=\"Actual-DQN-Results-16\">Actual DQN Results</a></span></li><li><span><a href=\"#-Experience-replay\" data-toc-modified-id=\"-Experience-replay-17\"> Experience replay</a></span></li><li><span><a href=\"#-Experience-Replay-Advantages-over-Traditional-Q-learning\" data-toc-modified-id=\"-Experience-Replay-Advantages-over-Traditional-Q-learning-18\"> Experience Replay Advantages over Traditional Q-learning</a></span></li><li><span><a href=\"#Grab-bag-of-helpful-techniques-for-DQN\" data-toc-modified-id=\"Grab-bag-of-helpful-techniques-for-DQN-19\">Grab-bag of helpful techniques for DQN</a></span></li><li><span><a href=\"#Takeaways\" data-toc-modified-id=\"Takeaways-20\">Takeaways</a></span></li><li><span><a href=\"#-Bonus-Material\" data-toc-modified-id=\"-Bonus-Material-21\"> Bonus Material</a></span></li><li><span><a href=\"#Self-Driving-Car-Example\" data-toc-modified-id=\"Self-Driving-Car-Example-22\">Self-Driving Car Example</a></span></li></ul></div>"
   ]
  },
  {
   "cell_type": "markdown",
   "metadata": {
    "slideshow": {
     "slide_type": "slide"
    }
   },
   "source": [
    "<center><h2>Deep Reinforcement Learning</h2></center>\n",
    "\n",
    "<center><img src=\"https://ih1.redbubble.net/image.311665146.8095/ra%2Crelaxed_fit%2Cx1100%2Cathletic_heather%2Cfront-c%2C260%2C195%2C225%2C375-pad%2C220x294%2Cffffff.lite-1u1.jpg\" width=\"40%\"/></center>"
   ]
  },
  {
   "cell_type": "markdown",
   "metadata": {
    "slideshow": {
     "slide_type": "slide"
    }
   },
   "source": [
    "<center><h2>Learning Outcomes</h2></center>\n",
    "\n",
    "__By the end of this session, you should be able to__:\n",
    "\n",
    "- Explain the connection between Q-learning and Deep Q-learning Network (DQN).\n",
    "- Describe how \"Experience Replay\" enables DQN.\n",
    "- List the advantages and disadvantages of Experience Replay.\n",
    "- List the common limitations of DQN and how to overcome each of them."
   ]
  },
  {
   "cell_type": "markdown",
   "metadata": {},
   "source": [
    "Notice at first the Q-values Q(s, a) are random. \n",
    "\n",
    "Then it learns to do mostly nothing. Sometimes move left or right."
   ]
  },
  {
   "cell_type": "markdown",
   "metadata": {
    "slideshow": {
     "slide_type": "slide"
    }
   },
   "source": [
    "<center><h2>\"Playing Atari with Deep Reinforcement Learning\" from DeepMind</h2></center>\n",
    "\n",
    "<center><img src=\"images/games.png\" width=\"100%\"/></center>\n",
    "Games: Pong, Breakout, Space Invaders, Seaquest,  Beam Rider\n",
    "\n",
    "DeepMind demonstrated that a computer can learn to play Atari video games by observing just the screen pixels and receiving a reward when the game score increased. \n",
    "\n",
    "The result was remarkable because the game play and the goals were very different in each game. \n",
    "\n",
    "The games were designed to be challenging for humans. \n",
    "\n",
    "The same model architecture, without any change, was used to learn 7 different games.\n",
    "\n",
    "In 3 of them, the algorithm out performed a human!"
   ]
  },
  {
   "cell_type": "markdown",
   "metadata": {
    "slideshow": {
     "slide_type": "skip"
    }
   },
   "source": [
    "[Read the DeepMind Atari paper](http://arxiv.org/pdf/1312.5602v1.pdf)"
   ]
  },
  {
   "cell_type": "markdown",
   "metadata": {
    "slideshow": {
     "slide_type": "slide"
    }
   },
   "source": [
    "<center><h2>Deep Reinforcement Learning for video games</h2></center>"
   ]
  },
  {
   "cell_type": "markdown",
   "metadata": {
    "slideshow": {
     "slide_type": "skip"
    }
   },
   "source": [
    "Pixel learning is difficult (but very flexible).\n",
    "\n",
    "In a future lab, we'll be using a lower-state representation of Catch, a simplified version of Pong.\n",
    "\n",
    "OpenAI frequently uses a API output as representation of a game state."
   ]
  },
  {
   "cell_type": "markdown",
   "metadata": {
    "slideshow": {
     "slide_type": "slide"
    }
   },
   "source": [
    "<center><h2>Reinforcement Learning can handle <b>sparse</b> and <b>time-delayed</b> labels.</h2></center>\n",
    "\n",
    "<center><img src=\"images/rewards.jpg\" width=\"75%\"/></center>\n"
   ]
  },
  {
   "cell_type": "markdown",
   "metadata": {
    "slideshow": {
     "slide_type": "slide"
    }
   },
   "source": [
    "<center><h2>Deep Reinforcement Learning</h2></center>\n",
    "<br>\n",
    "<center><img src=\"images/image-2.png\" width=\"75%\"/></center>\n",
    "\n",
    "Leverage the power of Deep Neural Networks (DNN) in a scalable fashion with the flexibility of Reinforcement Learning (RL)"
   ]
  },
  {
   "cell_type": "markdown",
   "metadata": {
    "slideshow": {
     "slide_type": "slide"
    }
   },
   "source": [
    "<center><img src=\"images/going_deep.png\" width=\"75%\"/></center> \n",
    "\n",
    "<center>DQN replace table with a neural network</center>\n",
    "\n",
    "<center><img src=\"images/dqn.png\" width=\"100%\"/></center>\n",
    "\n",
    "[Image Source](http://people.csail.mit.edu/hongzi/content/publications/DeepRM-HotNets16.pdf)"
   ]
  },
  {
   "cell_type": "markdown",
   "metadata": {
    "slideshow": {
     "slide_type": "slide"
    }
   },
   "source": [
    "<center><img src=\"images/DQN_overall.png\" width=\"100%\"/></center> \n",
    "\n",
    "For Breakout, actions:\n",
    "\n",
    "- Nothing\n",
    "- Left\n",
    "- Right\n",
    "- Fire"
   ]
  },
  {
   "cell_type": "markdown",
   "metadata": {
    "slideshow": {
     "slide_type": "skip"
    }
   },
   "source": [
    "[Image source](http://karpathy.github.io/2016/05/31/rl/)\n",
    "\n",
    "[Read the classic Deep Q-Learning paper](https://www.cs.toronto.edu/~vmnih/docs/dqn.pdf)"
   ]
  },
  {
   "cell_type": "markdown",
   "metadata": {},
   "source": [
    "<center><h2>Why deep learning for Reinforcement Learning?</h2></center>\n",
    "\n",
    "- Learn state representations\n",
    "- Learn value function\n",
    "- Learn policy\n",
    "- In the future, learn a more complete simulated environment of the world"
   ]
  },
  {
   "cell_type": "markdown",
   "metadata": {
    "slideshow": {
     "slide_type": "slide"
    }
   },
   "source": [
    "<center><h2>What is the key data structure for Deep Q-learning (DQN)?</h2></center>\n",
    "\n",
    " <center><img src=\"images/experience_replay.png\" width=\"75%\"/></center>\n",
    " \n",
    "<center>“Experience Replay”</center>\n",
    "\n",
    "During learning, a DQN is trained on a pool of stored episodes called the replay buffer."
   ]
  },
  {
   "cell_type": "markdown",
   "metadata": {
    "slideshow": {
     "slide_type": "slide"
    }
   },
   "source": [
    "<center><h2>Replay Buffer</h2></center>\n",
    "\n",
    "<center><img src=\"images/replay_buffer.png\" width=\"75%\"/></center>\n",
    "\n",
    "- Store a large collection of $(s, a, r, s′)$ transitions.\n",
    "- Randomly sample batches from buffer. \n",
    "- Train neural networks with fixed length batches ( Deep Learning systems prefer fixed length inputs).\n",
    "- Limited cache size (new data kicks out old data)."
   ]
  },
  {
   "cell_type": "markdown",
   "metadata": {},
   "source": [
    "<center><h2>Different Data Structures</h2></center>\n",
    "    \n",
    "1. Observations -  individual tuples (s, a, r, s′)\n",
    "1. Buffer - collection of ordered tuples\n",
    "1. Cache - variable length most important tuples\n",
    "1. Batch - fixed length collection of tuples sent to Deep Learning network for training."
   ]
  },
  {
   "cell_type": "markdown",
   "metadata": {
    "slideshow": {
     "slide_type": "skip"
    }
   },
   "source": [
    "Limited size cache has 2 advantages:\n",
    "    \n",
    "1. Computer memory will not be completely filled up.\n",
    "1. Hopefully the model as the learns - older, worse gameplay will be \"forgotten\"."
   ]
  },
  {
   "cell_type": "markdown",
   "metadata": {
    "slideshow": {
     "slide_type": "skip"
    }
   },
   "source": [
    "[Source](https://www.intel.ai/demystifying-deep-reinforcement-learning/#gs.i7eg8u)"
   ]
  },
  {
   "cell_type": "markdown",
   "metadata": {
    "slideshow": {
     "slide_type": "skip"
    }
   },
   "source": [
    "<center><h2>Why “Experience Replay” batching is useful</h2></center>\n",
    "\n",
    "- Batch state to reduce state space (overall size). \n",
    "- Batch reward to increase density of reward and learn transitions (reduce sparsity)."
   ]
  },
  {
   "cell_type": "markdown",
   "metadata": {
    "slideshow": {
     "slide_type": "slide"
    }
   },
   "source": [
    "<center><h2>Frames over time with Reward values</h2></center>\n",
    "<br>\n",
    "<center><img src=\"https://adeshpande3.github.io/assets/IRL14.png\" width=\"75%\"/></center>"
   ]
  },
  {
   "cell_type": "code",
   "execution_count": 1,
   "metadata": {
    "slideshow": {
     "slide_type": "slide"
    }
   },
   "outputs": [
    {
     "data": {
      "image/jpeg": "[encoded data removed]",
      "text/html": [
       "\n",
       "        <iframe\n",
       "            width=\"400\"\n",
       "            height=\"300\"\n",
       "            src=\"https://www.youtube.com/embed/UXurvvDY93o\"\n",
       "            frameborder=\"0\"\n",
       "            allowfullscreen\n",
       "        ></iframe>\n",
       "        "
      ],
      "text/plain": [
       "<IPython.lib.display.YouTubeVideo at 0x1032833d0>"
      ]
     },
     "execution_count": 1,
     "metadata": {},
     "output_type": "execute_result"
    }
   ],
   "source": [
    "from IPython.display import YouTubeVideo\n",
    "\n",
    "YouTubeVideo(\"UXurvvDY93o\")"
   ]
  },
  {
   "cell_type": "markdown",
   "metadata": {
    "slideshow": {
     "slide_type": "slide"
    }
   },
   "source": [
    "<center><h2>Experience Replay as Regularization for traditional Q-learning</h2></center>\n",
    "<br>\n",
    "<br>\n",
    "\n",
    "__What is regularization?__\n",
    "\n",
    "Regularization is adding an additional constraint to a model to encourage generalization.\n",
    "\n",
    "__How does Experience Replay regularize Q-values?__\n",
    "\n",
    "Traditional Q-learning updates on __the single most recent action__ / __every single__  (s, a) pair with a reward which could lead to over-fitting the recent specific sequences of observed data.\n",
    "\n",
    "Experience Replay regularizes Q-values by  __a random sample of prior actions batches__ the value is not always updated with every reward signal and values at t-1 can have greater impact.\n",
    "\n",
    "Experience Replay is similar to the sampling that is done for online stochastic gradient descent."
   ]
  },
  {
   "cell_type": "markdown",
   "metadata": {
    "slideshow": {
     "slide_type": "slide"
    }
   },
   "source": [
    "<center><h2>Stationary vs. Nonstationary data</h2></center>\n",
    "\n",
    "<center><img src=\"https://upload.wikimedia.org/wikipedia/commons/thumb/e/e1/Stationarycomparison.png/390px-Stationarycomparison.png\" width=\"55%\"/></center>"
   ]
  },
  {
   "cell_type": "markdown",
   "metadata": {
    "slideshow": {
     "slide_type": "slide"
    }
   },
   "source": [
    "<center><h2> Nonstationary Data FTW (literally winning)</h2></center>\n",
    "\n",
    "<center><img src=\"https://user-images.githubusercontent.com/46422351/53296086-14701500-3811-11e9-8281-6a9f513c7764.png\" width=\"75%\"/></center>"
   ]
  },
  {
   "cell_type": "markdown",
   "metadata": {
    "slideshow": {
     "slide_type": "slide"
    }
   },
   "source": [
    "<center><h2>Actual DQN Results</h2></center>\n",
    "\n",
    "<center><img src=\"https://jaromiru.com/media/dqn/basic_average_reward.png\" width=\"100%\"/></center>"
   ]
  },
  {
   "cell_type": "markdown",
   "metadata": {
    "slideshow": {
     "slide_type": "slide"
    }
   },
   "source": [
    " <center><h2> Experience replay</h2></center>\n",
    " \n",
    "Data distribution changes over time. As the Q-function gets better, you'll visit different $(s , a , s′, r)$ transitions than earlier.\n",
    "\n"
   ]
  },
  {
   "cell_type": "markdown",
   "metadata": {
    "slideshow": {
     "slide_type": "fragment"
    }
   },
   "source": [
    "Need to stabilize learning by mixing old and new transitions in the replay buffer."
   ]
  },
  {
   "cell_type": "markdown",
   "metadata": {
    "slideshow": {
     "slide_type": "fragment"
    }
   },
   "source": [
    "Otherwise \"catastrophic forgetting\"."
   ]
  },
  {
   "cell_type": "markdown",
   "metadata": {
    "slideshow": {
     "slide_type": "skip"
    }
   },
   "source": [
    "[Measuring Catastrophic Forgetting in Neural Networks](https://arxiv.org/abs/1708.02072) "
   ]
  },
  {
   "cell_type": "markdown",
   "metadata": {
    "slideshow": {
     "slide_type": "slide"
    }
   },
   "source": [
    "<center><h2> Experience Replay Advantages over Traditional Q-learning</h2></center> "
   ]
  },
  {
   "cell_type": "markdown",
   "metadata": {
    "slideshow": {
     "slide_type": "fragment"
    }
   },
   "source": [
    "1) Improves data efficiency - Can sample with replacement from replay buffer. Traditional Q-learning throws away data after single use."
   ]
  },
  {
   "cell_type": "markdown",
   "metadata": {
    "slideshow": {
     "slide_type": "fragment"
    }
   },
   "source": [
    "2) Given sampling, experience replay can minimize correlations in the observation sequences. Experience replay learns more generalized properties of the state space, less likely to memorize specific sequences."
   ]
  },
  {
   "cell_type": "markdown",
   "metadata": {
    "slideshow": {
     "slide_type": "fragment"
    }
   },
   "source": [
    "3) Smooths over changes in the data distribution - another variation of regularization."
   ]
  },
  {
   "cell_type": "markdown",
   "metadata": {
    "slideshow": {
     "slide_type": "skip"
    }
   },
   "source": [
    " [Source](https://lilianweng.github.io/lil-log/2018/02/19/a-long-peek-into-reinforcement-learning.html#deep-q-network)"
   ]
  },
  {
   "cell_type": "markdown",
   "metadata": {
    "slideshow": {
     "slide_type": "slide"
    }
   },
   "source": [
    "<center><h2>Grab-bag of helpful techniques for DQN</h2></center>\n",
    "\n",
    "- Prioritized experience replay - Remember all your clever ways to resample simulations.\n"
   ]
  },
  {
   "cell_type": "markdown",
   "metadata": {
    "slideshow": {
     "slide_type": "fragment"
    }
   },
   "source": [
    "- Prioritize ground known truth rewards \n",
    "    - If there is ground-truth $ Q(s,a)=r$, prioritize those in the network.\n",
    "    - For example, in video games there is clear very positive or negative outcome for certain states."
   ]
  },
  {
   "cell_type": "markdown",
   "metadata": {
    "slideshow": {
     "slide_type": "skip"
    }
   },
   "source": [
    "[Source](https://jaromiru.com/2016/10/12/lets-make-a-dqn-debugging/)"
   ]
  },
  {
   "cell_type": "markdown",
   "metadata": {
    "slideshow": {
     "slide_type": "slide"
    }
   },
   "source": [
    "<center><h2>Takeaways</h2></center>\n",
    "\n",
    "- Q-learning can easily be extended to Deep Q-Network (DQN) \n",
    "- DQN is another type of Value Function Approximation (VFA)\n",
    "- Can learn from raw pixels to master complex video games\n",
    "- \"Experience Replay\" is training a selected sample of $(s , a , s′, r)$\n",
    "- Experience Replay can stabilize and generalize Q-learning by using more and better examples for training."
   ]
  },
  {
   "cell_type": "markdown",
   "metadata": {
    "slideshow": {
     "slide_type": "slide"
    }
   },
   "source": [
    " "
   ]
  },
  {
   "cell_type": "markdown",
   "metadata": {
    "slideshow": {
     "slide_type": "slide"
    }
   },
   "source": [
    "<center><h2> Bonus Material</h2></center>"
   ]
  },
  {
   "cell_type": "markdown",
   "metadata": {
    "slideshow": {
     "slide_type": "slide"
    }
   },
   "source": [
    " "
   ]
  },
  {
   "cell_type": "markdown",
   "metadata": {},
   "source": [
    "<center><h2>Self-Driving Car Example</h2></center>\n",
    "\n",
    "End-to-end learning can be difficult. In particular, there can be discontinuous parts of the functions thus preventing the derivative from being taking.\n",
    "\n",
    "Here is a concrete, real-world example from \n",
    "\n",
    "They to had to reframe the problem in order to support end-to-end learning:\n",
    "> “In order to make our system independent of the car geometry, we represent the steering command as 1/r where r is the turning radius in meters. We use 1/r instead of r to prevent a singularity when driving straight (the turning radius for driving straight is infinity). 1/r smoothly transitions through zero from left turns (negative values) to right turns (positive values).“”\n",
    "The entire paper is relevant!\n",
    "\n",
    "Note a variation of prioritize replay:\n",
    "> “Training data contains single images sampled from the video, paired with the corresponding steering command (1/r). Training with data from only the human driver is not sufficient. The network must learn how to recover from mistakes. Otherwise the car will slowly drift off the road. The training data is therefore augmented with additional images that show the car in different shifts from the center of the lane and rotations from the direction of the road.”\n",
    "Note ground-truth rewards:\n",
    "> “Since human drivers might not be driving in the center of the lane all the time, we manually calibrate the lane center associated with each frame in the video used by the simulator. We call this position the “ground truth”.”\n",
    "\n",
    "\n",
    "“End to End Learning for Self-Driving Cars”    \n",
    "https://arxiv.org/abs/1604.07316"
   ]
  },
  {
   "cell_type": "markdown",
   "metadata": {
    "slideshow": {
     "slide_type": "slide"
    }
   },
   "source": [
    "<center><img src=\"https://jaromiru.com/media/dqn/dqn.png\" width=\"45%\"/></center> "
   ]
  },
  {
   "cell_type": "markdown",
   "metadata": {
    "slideshow": {
     "slide_type": "skip"
    }
   },
   "source": [
    "[Image source](https://jaromiru.com)"
   ]
  },
  {
   "cell_type": "markdown",
   "metadata": {
    "slideshow": {
     "slide_type": "slide"
    }
   },
   "source": [
    " "
   ]
  },
  {
   "cell_type": "markdown",
   "metadata": {
    "slideshow": {
     "slide_type": "slide"
    }
   },
   "source": [
    " "
   ]
  },
  {
   "cell_type": "markdown",
   "metadata": {
    "slideshow": {
     "slide_type": "slide"
    }
   },
   "source": [
    " "
   ]
  },
  {
   "cell_type": "markdown",
   "metadata": {
    "slideshow": {
     "slide_type": "slide"
    }
   },
   "source": [
    " "
   ]
  }
 ],
 "metadata": {
  "anaconda-cloud": {},
  "celltoolbar": "Raw Cell Format",
  "kernelspec": {
   "display_name": "Python 3",
   "language": "python",
   "name": "python3"
  },
  "language_info": {
   "codemirror_mode": {
    "name": "ipython",
    "version": 3
   },
   "file_extension": ".py",
   "mimetype": "text/x-python",
   "name": "python",
   "nbconvert_exporter": "python",
   "pygments_lexer": "ipython3",
   "version": "3.7.7"
  },
  "toc": {
   "base_numbering": 1,
   "nav_menu": {},
   "number_sections": false,
   "sideBar": false,
   "skip_h1_title": false,
   "title_cell": "Table of Contents",
   "title_sidebar": "Contents",
   "toc_cell": true,
   "toc_position": {},
   "toc_section_display": true,
   "toc_window_display": false
  }
 },
 "nbformat": 4,
 "nbformat_minor": 1
}
