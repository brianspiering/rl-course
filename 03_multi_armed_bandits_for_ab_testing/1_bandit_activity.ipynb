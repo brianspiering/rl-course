{
 "cells": [
  {
   "cell_type": "markdown",
   "metadata": {
    "toc": true
   },
   "source": [
    "<h1>Table of Contents<span class=\"tocSkip\"></span></h1>\n",
    "<div class=\"toc\"><ul class=\"toc-item\"><li><span><a href=\"#Brian's-Casino\" data-toc-modified-id=\"Brian's-Casino-1\">Brian's Casino</a></span></li><li><span><a href=\"#The-Rules-in-Brian's-Casino\" data-toc-modified-id=\"The-Rules-in-Brian's-Casino-2\">The Rules in Brian's Casino</a></span></li><li><span><a href=\"#What-is-the-best-strategy?\" data-toc-modified-id=\"What-is-the-best-strategy?-3\">What is the best strategy?</a></span></li></ul></div>"
   ]
  },
  {
   "cell_type": "markdown",
   "metadata": {
    "slideshow": {
     "slide_type": "slide"
    }
   },
   "source": [
    "<center><h2>Brian's Casino</h2></center>\n",
    "<br>\n",
    "<center><img src=\"https://s-media-cache-ak0.pinimg.com/736x/a4/54/41/a45441953e80eb577134426cade9d9ad.jpg\" width=\"500\"/></center>"
   ]
  },
  {
   "cell_type": "markdown",
   "metadata": {
    "slideshow": {
     "slide_type": "slide"
    }
   },
   "source": [
    "<center><h2>The Rules in Brian's Casino</h2></center>\n",
    "\n",
    "1. Need two volunteers:\n",
    "    1. Player\n",
    "    1. Score Keeper\n",
    "1. I'll shuffle each deck before starting. \n",
    "1. During a round, draw one card from any deck.\n",
    "1. Points are equal to the number on the card. Jack, Queen, King, and Ace are each worth 10 points. \n",
    "1. The Player's final score is the sum of points after 8 rounds.\n",
    "\n",
    "<center> (Audience participation is encouraged.)</center>"
   ]
  },
  {
   "cell_type": "markdown",
   "metadata": {
    "slideshow": {
     "slide_type": "slide"
    }
   },
   "source": [
    "<center><h2>What is the best strategy?</h2></center>"
   ]
  },
  {
   "cell_type": "markdown",
   "metadata": {
    "slideshow": {
     "slide_type": "slide"
    }
   },
   "source": [
    "<br>\n",
    "<br> \n",
    "<br>\n",
    "\n",
    "----"
   ]
  }
 ],
 "metadata": {
  "celltoolbar": "Raw Cell Format",
  "kernelspec": {
   "display_name": "Python 3",
   "language": "python",
   "name": "python3"
  },
  "language_info": {
   "codemirror_mode": {
    "name": "ipython",
    "version": 3
   },
   "file_extension": ".py",
   "mimetype": "text/x-python",
   "name": "python",
   "nbconvert_exporter": "python",
   "pygments_lexer": "ipython3",
   "version": "3.7.7"
  },
  "toc": {
   "base_numbering": 1,
   "nav_menu": {},
   "number_sections": false,
   "sideBar": false,
   "skip_h1_title": false,
   "title_cell": "Table of Contents",
   "title_sidebar": "Contents",
   "toc_cell": true,
   "toc_position": {},
   "toc_section_display": true,
   "toc_window_display": false
  }
 },
 "nbformat": 4,
 "nbformat_minor": 2
}
